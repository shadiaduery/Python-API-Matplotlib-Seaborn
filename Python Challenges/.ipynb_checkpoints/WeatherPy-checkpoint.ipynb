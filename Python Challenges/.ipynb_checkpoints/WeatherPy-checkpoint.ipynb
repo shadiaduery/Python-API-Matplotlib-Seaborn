{
 "cells": [
  {
   "cell_type": "markdown",
   "metadata": {},
   "source": [
    "# WeatherPy\n",
    "----\n",
    "\n",
    "#### Note\n",
    "* Instructions have been included for each segment. You do not have to follow them exactly, but they are included to help you think through the steps."
   ]
  },
  {
   "cell_type": "code",
   "execution_count": 1,
   "metadata": {
    "scrolled": true
   },
   "outputs": [],
   "source": [
    "# Dependencies and Setup\n",
    "import matplotlib.pyplot as plt\n",
    "import pandas as pd\n",
    "import numpy as np\n",
    "import requests\n",
    "import json\n",
    "import time\n",
    "import gmaps\n",
    "from scipy.stats import linregress\n",
    "from pprint import pprint\n",
    "\n",
    "# Import API key\n",
    "from api_keys import weather_api_key\n",
    "from api_keys import g_key\n",
    "\n",
    "# Incorporated citipy to determine city based on latitude and longitude\n",
    "from citipy import citipy\n",
    "\n",
    "# # Output File (CSV)\n",
    "# output_data_file = \"output_data/cities.csv\"\n",
    "\n",
    "# Range of latitudes and longitudes\n",
    "lat_range = (-90, 90)\n",
    "lng_range = (-180, 180)\n",
    "\n",
    "# print(weather_api_key)\n",
    "# print(g_key)\n"
   ]
  },
  {
   "cell_type": "markdown",
   "metadata": {},
   "source": [
    "## Generate Cities List"
   ]
  },
  {
   "cell_type": "code",
   "execution_count": 2,
   "metadata": {},
   "outputs": [
    {
     "name": "stdout",
     "output_type": "stream",
     "text": [
      "616\n"
     ]
    }
   ],
   "source": [
    "# List for holding lat_lngs and cities\n",
    "lat_lngs = []\n",
    "cities = []\n",
    "\n",
    "# Create a set of random lat and lng combinations\n",
    "lats = np.random.uniform(lat_range[0], lat_range[1], size=1500)\n",
    "lngs = np.random.uniform(lng_range[0], lng_range[1], size=1500)\n",
    "lat_lngs = zip(lats, lngs)\n",
    "\n",
    "# Identify nearest city for each lat, lng combination\n",
    "for lat_lng in lat_lngs:\n",
    "    city = citipy.nearest_city(lat_lng[0], lat_lng[1]).city_name\n",
    "    \n",
    "    # If the city is unique, then add it to a our cities list\n",
    "    if city not in cities:\n",
    "        cities.append(city)\n",
    "\n",
    "# Print the city count to confirm sufficient count\n",
    "# len(cities)\n",
    "# cities_df = pd.DataFrame(cities)\n",
    "# cities_df.head()\n",
    "# print(len(cities))\n",
    "print(len(cities))"
   ]
  },
  {
   "cell_type": "markdown",
   "metadata": {},
   "source": [
    "### Perform API Calls\n",
    "* Perform a weather check on each city using a series of successive API calls.\n",
    "* Include a print log of each city as it'sbeing processed (with the city number and city name).\n"
   ]
  },
  {
   "cell_type": "code",
   "execution_count": 3,
   "metadata": {},
   "outputs": [
    {
     "name": "stdout",
     "output_type": "stream",
     "text": [
      "37.1\n",
      "-113.58\n",
      "84.99\n",
      "18\n",
      "1\n",
      "9.98\n",
      "'US'\n",
      "'Saint George'\n",
      "1604615684\n"
     ]
    }
   ],
   "source": [
    "#URL for GET requests to retrieve weather data - to test one city and see what kind of data we can retrieve\n",
    "\n",
    "cities\n",
    "url = \"http://api.openweathermap.org/data/2.5/weather?\"\n",
    "units = \"imperial\"\n",
    "city = \"saint george\"\n",
    "\n",
    "# Build query URL\n",
    "query_url = (url + \"appid=\" + weather_api_key + \"&units=\" + units +\"&q=\")\n",
    "query_url_city = query_url + city\n",
    "\n",
    "# make request    \n",
    "weather_response = requests.get(query_url_city)\n",
    "\n",
    "# convert to json\n",
    "weather_json = weather_response.json()\n",
    "\n",
    "# print (query_url)\n",
    "# pprint(weather_json)\n",
    "\n",
    "\n",
    "pprint(weather_json['coord']['lat'])\n",
    "pprint(weather_json['coord']['lon'])\n",
    "pprint(weather_json['main']['temp_max'])\n",
    "pprint(weather_json['main']['humidity'])\n",
    "pprint(weather_json['clouds']['all'])\n",
    "pprint(weather_json['wind']['speed'])\n",
    "pprint(weather_json['sys']['country'])\n",
    "pprint(weather_json['name'])\n",
    "pprint(weather_json['dt'])"
   ]
  },
  {
   "cell_type": "code",
   "execution_count": 4,
   "metadata": {
    "scrolled": true
   },
   "outputs": [
    {
     "data": {
      "text/html": [
       "<div>\n",
       "<style scoped>\n",
       "    .dataframe tbody tr th:only-of-type {\n",
       "        vertical-align: middle;\n",
       "    }\n",
       "\n",
       "    .dataframe tbody tr th {\n",
       "        vertical-align: top;\n",
       "    }\n",
       "\n",
       "    .dataframe thead th {\n",
       "        text-align: right;\n",
       "    }\n",
       "</style>\n",
       "<table border=\"1\" class=\"dataframe\">\n",
       "  <thead>\n",
       "    <tr style=\"text-align: right;\">\n",
       "      <th></th>\n",
       "      <th>City</th>\n",
       "      <th>Lat</th>\n",
       "      <th>Lon</th>\n",
       "      <th>Max Temp</th>\n",
       "      <th>Humidity</th>\n",
       "      <th>Cloudiness</th>\n",
       "      <th>Windspeed</th>\n",
       "      <th>Country</th>\n",
       "      <th>Date</th>\n",
       "    </tr>\n",
       "  </thead>\n",
       "  <tbody>\n",
       "    <tr>\n",
       "      <th>0</th>\n",
       "      <td>saint-philippe</td>\n",
       "      <td></td>\n",
       "      <td></td>\n",
       "      <td></td>\n",
       "      <td></td>\n",
       "      <td></td>\n",
       "      <td></td>\n",
       "      <td></td>\n",
       "      <td></td>\n",
       "    </tr>\n",
       "    <tr>\n",
       "      <th>1</th>\n",
       "      <td>tasiilaq</td>\n",
       "      <td></td>\n",
       "      <td></td>\n",
       "      <td></td>\n",
       "      <td></td>\n",
       "      <td></td>\n",
       "      <td></td>\n",
       "      <td></td>\n",
       "      <td></td>\n",
       "    </tr>\n",
       "    <tr>\n",
       "      <th>2</th>\n",
       "      <td>kahului</td>\n",
       "      <td></td>\n",
       "      <td></td>\n",
       "      <td></td>\n",
       "      <td></td>\n",
       "      <td></td>\n",
       "      <td></td>\n",
       "      <td></td>\n",
       "      <td></td>\n",
       "    </tr>\n",
       "    <tr>\n",
       "      <th>3</th>\n",
       "      <td>kiama</td>\n",
       "      <td></td>\n",
       "      <td></td>\n",
       "      <td></td>\n",
       "      <td></td>\n",
       "      <td></td>\n",
       "      <td></td>\n",
       "      <td></td>\n",
       "      <td></td>\n",
       "    </tr>\n",
       "    <tr>\n",
       "      <th>4</th>\n",
       "      <td>mataura</td>\n",
       "      <td></td>\n",
       "      <td></td>\n",
       "      <td></td>\n",
       "      <td></td>\n",
       "      <td></td>\n",
       "      <td></td>\n",
       "      <td></td>\n",
       "      <td></td>\n",
       "    </tr>\n",
       "    <tr>\n",
       "      <th>5</th>\n",
       "      <td>busselton</td>\n",
       "      <td></td>\n",
       "      <td></td>\n",
       "      <td></td>\n",
       "      <td></td>\n",
       "      <td></td>\n",
       "      <td></td>\n",
       "      <td></td>\n",
       "      <td></td>\n",
       "    </tr>\n",
       "    <tr>\n",
       "      <th>6</th>\n",
       "      <td>albany</td>\n",
       "      <td></td>\n",
       "      <td></td>\n",
       "      <td></td>\n",
       "      <td></td>\n",
       "      <td></td>\n",
       "      <td></td>\n",
       "      <td></td>\n",
       "      <td></td>\n",
       "    </tr>\n",
       "    <tr>\n",
       "      <th>7</th>\n",
       "      <td>bethel</td>\n",
       "      <td></td>\n",
       "      <td></td>\n",
       "      <td></td>\n",
       "      <td></td>\n",
       "      <td></td>\n",
       "      <td></td>\n",
       "      <td></td>\n",
       "      <td></td>\n",
       "    </tr>\n",
       "    <tr>\n",
       "      <th>8</th>\n",
       "      <td>ushuaia</td>\n",
       "      <td></td>\n",
       "      <td></td>\n",
       "      <td></td>\n",
       "      <td></td>\n",
       "      <td></td>\n",
       "      <td></td>\n",
       "      <td></td>\n",
       "      <td></td>\n",
       "    </tr>\n",
       "    <tr>\n",
       "      <th>9</th>\n",
       "      <td>avarua</td>\n",
       "      <td></td>\n",
       "      <td></td>\n",
       "      <td></td>\n",
       "      <td></td>\n",
       "      <td></td>\n",
       "      <td></td>\n",
       "      <td></td>\n",
       "      <td></td>\n",
       "    </tr>\n",
       "  </tbody>\n",
       "</table>\n",
       "</div>"
      ],
      "text/plain": [
       "             City Lat Lon Max Temp Humidity Cloudiness Windspeed Country Date\n",
       "0  saint-philippe                                                            \n",
       "1        tasiilaq                                                            \n",
       "2         kahului                                                            \n",
       "3           kiama                                                            \n",
       "4         mataura                                                            \n",
       "5       busselton                                                            \n",
       "6          albany                                                            \n",
       "7          bethel                                                            \n",
       "8         ushuaia                                                            \n",
       "9          avarua                                                            "
      ]
     },
     "execution_count": 4,
     "metadata": {},
     "output_type": "execute_result"
    }
   ],
   "source": [
    "# Create a DataFrame for the cities we collected from citipy\n",
    "\n",
    "cities_pd = pd.DataFrame(cities, columns=['City'])\n",
    "cities_pd[\"Lat\"] = \"\"\n",
    "cities_pd[\"Lon\"] = \"\"\n",
    "cities_pd[\"Max Temp\"] = \"\"\n",
    "cities_pd[\"Humidity\"] = \"\"\n",
    "cities_pd[\"Cloudiness\"] = \"\"\n",
    "cities_pd[\"Windspeed\"] = \"\"\n",
    "cities_pd[\"Country\"] = \"\"\n",
    "cities_pd[\"Date\"] = \"\"\n",
    "cities_pd.head(10)"
   ]
  },
  {
   "cell_type": "code",
   "execution_count": 5,
   "metadata": {},
   "outputs": [
    {
     "data": {
      "text/html": [
       "<div>\n",
       "<style scoped>\n",
       "    .dataframe tbody tr th:only-of-type {\n",
       "        vertical-align: middle;\n",
       "    }\n",
       "\n",
       "    .dataframe tbody tr th {\n",
       "        vertical-align: top;\n",
       "    }\n",
       "\n",
       "    .dataframe thead th {\n",
       "        text-align: right;\n",
       "    }\n",
       "</style>\n",
       "<table border=\"1\" class=\"dataframe\">\n",
       "  <thead>\n",
       "    <tr style=\"text-align: right;\">\n",
       "      <th></th>\n",
       "      <th>City</th>\n",
       "      <th>Lat</th>\n",
       "      <th>Lon</th>\n",
       "      <th>Max Temp</th>\n",
       "      <th>Humidity</th>\n",
       "      <th>Cloudiness</th>\n",
       "      <th>Windspeed</th>\n",
       "      <th>Country</th>\n",
       "      <th>Date</th>\n",
       "    </tr>\n",
       "  </thead>\n",
       "  <tbody>\n",
       "    <tr>\n",
       "      <th>0</th>\n",
       "      <td>saint-philippe</td>\n",
       "      <td>-21.36</td>\n",
       "      <td>55.77</td>\n",
       "      <td>71.6</td>\n",
       "      <td>64</td>\n",
       "      <td>38</td>\n",
       "      <td>4.7</td>\n",
       "      <td>RE</td>\n",
       "      <td>1604615575</td>\n",
       "    </tr>\n",
       "    <tr>\n",
       "      <th>1</th>\n",
       "      <td>tasiilaq</td>\n",
       "      <td>65.61</td>\n",
       "      <td>-37.64</td>\n",
       "      <td>28.4</td>\n",
       "      <td>74</td>\n",
       "      <td>91</td>\n",
       "      <td>4.7</td>\n",
       "      <td>GL</td>\n",
       "      <td>1604615538</td>\n",
       "    </tr>\n",
       "    <tr>\n",
       "      <th>2</th>\n",
       "      <td>kahului</td>\n",
       "      <td>20.89</td>\n",
       "      <td>-156.47</td>\n",
       "      <td>91.4</td>\n",
       "      <td>43</td>\n",
       "      <td>40</td>\n",
       "      <td>3.36</td>\n",
       "      <td>US</td>\n",
       "      <td>1604615468</td>\n",
       "    </tr>\n",
       "    <tr>\n",
       "      <th>3</th>\n",
       "      <td>kiama</td>\n",
       "      <td>-34.68</td>\n",
       "      <td>150.87</td>\n",
       "      <td>62.01</td>\n",
       "      <td>67</td>\n",
       "      <td>60</td>\n",
       "      <td>7</td>\n",
       "      <td>AU</td>\n",
       "      <td>1604615767</td>\n",
       "    </tr>\n",
       "    <tr>\n",
       "      <th>4</th>\n",
       "      <td>mataura</td>\n",
       "      <td>-46.19</td>\n",
       "      <td>168.86</td>\n",
       "      <td>55.99</td>\n",
       "      <td>76</td>\n",
       "      <td>46</td>\n",
       "      <td>4</td>\n",
       "      <td>NZ</td>\n",
       "      <td>1604615743</td>\n",
       "    </tr>\n",
       "  </tbody>\n",
       "</table>\n",
       "</div>"
      ],
      "text/plain": [
       "             City    Lat     Lon Max Temp Humidity Cloudiness Windspeed  \\\n",
       "0  saint-philippe -21.36   55.77     71.6       64         38       4.7   \n",
       "1        tasiilaq  65.61  -37.64     28.4       74         91       4.7   \n",
       "2         kahului  20.89 -156.47     91.4       43         40      3.36   \n",
       "3           kiama -34.68  150.87    62.01       67         60         7   \n",
       "4         mataura -46.19  168.86    55.99       76         46         4   \n",
       "\n",
       "  Country        Date  \n",
       "0      RE  1604615575  \n",
       "1      GL  1604615538  \n",
       "2      US  1604615468  \n",
       "3      AU  1604615767  \n",
       "4      NZ  1604615743  "
      ]
     },
     "execution_count": 5,
     "metadata": {},
     "output_type": "execute_result"
    }
   ],
   "source": [
    "#URL for GET requests to retrieve weather data - to test one city and see what kind of data we can retrieve\n",
    "\n",
    "cities\n",
    "url = \"http://api.openweathermap.org/data/2.5/weather?\"\n",
    "units = \"imperial\"\n",
    "\n",
    "mapping = { # key is the df column name, the value is going to be the key(s) to value in JSON\n",
    "    'Lat': ['coord', 'lat'],\n",
    "    'Lon': ['coord', 'lon'], \n",
    "    'Max Temp': ['main', 'temp_max'], \n",
    "    'Humidity': ['main', 'humidity'],\n",
    "    'Cloudiness': ['clouds', 'all'],\n",
    "    'Windspeed': ['wind', 'speed'],\n",
    "    'Country': ['sys', 'country'], \n",
    "    'Date': ['dt']\n",
    "}\n",
    "\n",
    "# created a for loop using the function .iterrows() to go over every row of the dataframe created and filling in the values from the API call\n",
    "for index, row in cities_pd.iterrows():\n",
    "    city_name=row['City']\n",
    "    # the dictionary params is built to hold into one valiable all the url query \n",
    "    params={\n",
    "        'appid': weather_api_key,\n",
    "        'units': units, \n",
    "        'q': city_name\n",
    "    }\n",
    "    # Build query URL\n",
    "    # query_url = (url + \"appid=\" + weather_api_key + \"&units=\" + units +\"&q=\" +city_name)\n",
    "    # response=requests.get(query_url)\n",
    "    \n",
    "    # requests.get(url, params=params) is a cleaner way to build a url query\n",
    "    response=requests.get(url, params=params)\n",
    "    data=response.json()\n",
    "   \n",
    "    # pprint(data),  iterating over a dictionary using the function .items()\n",
    "    for key_df, key_json in mapping.items(): \n",
    "        try: \n",
    "            data_value=data\n",
    "            for each_key_json in key_json: \n",
    "                data_value=data_value[each_key_json]\n",
    "        except: \n",
    "            data_value=''\n",
    "        row[key_df]=data_value\n",
    "    \n",
    "cities_pd.head()"
   ]
  },
  {
   "cell_type": "code",
   "execution_count": 6,
   "metadata": {},
   "outputs": [],
   "source": [
    "cities_pd.to_csv(\"../output_data/cities_pd.csv\", index=False, header=True)"
   ]
  },
  {
   "cell_type": "markdown",
   "metadata": {},
   "source": [
    "# Convert Raw Data to DataFrame\n",
    "* Export the city data into a .csv.\n",
    "* Display the DataFrame"
   ]
  },
  {
   "cell_type": "code",
   "execution_count": 7,
   "metadata": {},
   "outputs": [
    {
     "data": {
      "text/html": [
       "<div>\n",
       "<style scoped>\n",
       "    .dataframe tbody tr th:only-of-type {\n",
       "        vertical-align: middle;\n",
       "    }\n",
       "\n",
       "    .dataframe tbody tr th {\n",
       "        vertical-align: top;\n",
       "    }\n",
       "\n",
       "    .dataframe thead th {\n",
       "        text-align: right;\n",
       "    }\n",
       "</style>\n",
       "<table border=\"1\" class=\"dataframe\">\n",
       "  <thead>\n",
       "    <tr style=\"text-align: right;\">\n",
       "      <th></th>\n",
       "      <th>City</th>\n",
       "      <th>Lat</th>\n",
       "      <th>Lon</th>\n",
       "      <th>Max Temp</th>\n",
       "      <th>Humidity</th>\n",
       "      <th>Cloudiness</th>\n",
       "      <th>Windspeed</th>\n",
       "      <th>Country</th>\n",
       "      <th>Date</th>\n",
       "    </tr>\n",
       "  </thead>\n",
       "  <tbody>\n",
       "    <tr>\n",
       "      <th>0</th>\n",
       "      <td>saint-philippe</td>\n",
       "      <td>-21.36</td>\n",
       "      <td>55.77</td>\n",
       "      <td>71.60</td>\n",
       "      <td>64.0</td>\n",
       "      <td>38.0</td>\n",
       "      <td>4.70</td>\n",
       "      <td>RE</td>\n",
       "      <td>1.604616e+09</td>\n",
       "    </tr>\n",
       "    <tr>\n",
       "      <th>1</th>\n",
       "      <td>tasiilaq</td>\n",
       "      <td>65.61</td>\n",
       "      <td>-37.64</td>\n",
       "      <td>28.40</td>\n",
       "      <td>74.0</td>\n",
       "      <td>91.0</td>\n",
       "      <td>4.70</td>\n",
       "      <td>GL</td>\n",
       "      <td>1.604616e+09</td>\n",
       "    </tr>\n",
       "    <tr>\n",
       "      <th>2</th>\n",
       "      <td>kahului</td>\n",
       "      <td>20.89</td>\n",
       "      <td>-156.47</td>\n",
       "      <td>91.40</td>\n",
       "      <td>43.0</td>\n",
       "      <td>40.0</td>\n",
       "      <td>3.36</td>\n",
       "      <td>US</td>\n",
       "      <td>1.604615e+09</td>\n",
       "    </tr>\n",
       "    <tr>\n",
       "      <th>3</th>\n",
       "      <td>kiama</td>\n",
       "      <td>-34.68</td>\n",
       "      <td>150.87</td>\n",
       "      <td>62.01</td>\n",
       "      <td>67.0</td>\n",
       "      <td>60.0</td>\n",
       "      <td>7.00</td>\n",
       "      <td>AU</td>\n",
       "      <td>1.604616e+09</td>\n",
       "    </tr>\n",
       "    <tr>\n",
       "      <th>4</th>\n",
       "      <td>mataura</td>\n",
       "      <td>-46.19</td>\n",
       "      <td>168.86</td>\n",
       "      <td>55.99</td>\n",
       "      <td>76.0</td>\n",
       "      <td>46.0</td>\n",
       "      <td>4.00</td>\n",
       "      <td>NZ</td>\n",
       "      <td>1.604616e+09</td>\n",
       "    </tr>\n",
       "  </tbody>\n",
       "</table>\n",
       "</div>"
      ],
      "text/plain": [
       "             City    Lat     Lon  Max Temp  Humidity  Cloudiness  Windspeed  \\\n",
       "0  saint-philippe -21.36   55.77     71.60      64.0        38.0       4.70   \n",
       "1        tasiilaq  65.61  -37.64     28.40      74.0        91.0       4.70   \n",
       "2         kahului  20.89 -156.47     91.40      43.0        40.0       3.36   \n",
       "3           kiama -34.68  150.87     62.01      67.0        60.0       7.00   \n",
       "4         mataura -46.19  168.86     55.99      76.0        46.0       4.00   \n",
       "\n",
       "  Country          Date  \n",
       "0      RE  1.604616e+09  \n",
       "1      GL  1.604616e+09  \n",
       "2      US  1.604615e+09  \n",
       "3      AU  1.604616e+09  \n",
       "4      NZ  1.604616e+09  "
      ]
     },
     "execution_count": 7,
     "metadata": {},
     "output_type": "execute_result"
    }
   ],
   "source": [
    "cities_pd = \"../output_data/cities_pd.csv\"\n",
    "\n",
    "cities_pd = pd.read_csv(cities_pd, encoding=\"ISO-8859-1\")\n",
    "\n",
    "cities_pd.head()"
   ]
  },
  {
   "cell_type": "code",
   "execution_count": 8,
   "metadata": {},
   "outputs": [
    {
     "data": {
      "text/html": [
       "<div>\n",
       "<style scoped>\n",
       "    .dataframe tbody tr th:only-of-type {\n",
       "        vertical-align: middle;\n",
       "    }\n",
       "\n",
       "    .dataframe tbody tr th {\n",
       "        vertical-align: top;\n",
       "    }\n",
       "\n",
       "    .dataframe thead th {\n",
       "        text-align: right;\n",
       "    }\n",
       "</style>\n",
       "<table border=\"1\" class=\"dataframe\">\n",
       "  <thead>\n",
       "    <tr style=\"text-align: right;\">\n",
       "      <th></th>\n",
       "      <th>City</th>\n",
       "      <th>Lat</th>\n",
       "      <th>Lon</th>\n",
       "      <th>Max Temp</th>\n",
       "      <th>Humidity</th>\n",
       "      <th>Cloudiness</th>\n",
       "      <th>Windspeed</th>\n",
       "      <th>Country</th>\n",
       "      <th>Date</th>\n",
       "    </tr>\n",
       "  </thead>\n",
       "  <tbody>\n",
       "    <tr>\n",
       "      <th>0</th>\n",
       "      <td>saint-philippe</td>\n",
       "      <td>-21.36</td>\n",
       "      <td>55.77</td>\n",
       "      <td>71.60</td>\n",
       "      <td>64.0</td>\n",
       "      <td>38.0</td>\n",
       "      <td>4.70</td>\n",
       "      <td>RE</td>\n",
       "      <td>1.604616e+09</td>\n",
       "    </tr>\n",
       "    <tr>\n",
       "      <th>1</th>\n",
       "      <td>tasiilaq</td>\n",
       "      <td>65.61</td>\n",
       "      <td>-37.64</td>\n",
       "      <td>28.40</td>\n",
       "      <td>74.0</td>\n",
       "      <td>91.0</td>\n",
       "      <td>4.70</td>\n",
       "      <td>GL</td>\n",
       "      <td>1.604616e+09</td>\n",
       "    </tr>\n",
       "    <tr>\n",
       "      <th>2</th>\n",
       "      <td>kahului</td>\n",
       "      <td>20.89</td>\n",
       "      <td>-156.47</td>\n",
       "      <td>91.40</td>\n",
       "      <td>43.0</td>\n",
       "      <td>40.0</td>\n",
       "      <td>3.36</td>\n",
       "      <td>US</td>\n",
       "      <td>1.604615e+09</td>\n",
       "    </tr>\n",
       "    <tr>\n",
       "      <th>3</th>\n",
       "      <td>kiama</td>\n",
       "      <td>-34.68</td>\n",
       "      <td>150.87</td>\n",
       "      <td>62.01</td>\n",
       "      <td>67.0</td>\n",
       "      <td>60.0</td>\n",
       "      <td>7.00</td>\n",
       "      <td>AU</td>\n",
       "      <td>1.604616e+09</td>\n",
       "    </tr>\n",
       "    <tr>\n",
       "      <th>4</th>\n",
       "      <td>mataura</td>\n",
       "      <td>-46.19</td>\n",
       "      <td>168.86</td>\n",
       "      <td>55.99</td>\n",
       "      <td>76.0</td>\n",
       "      <td>46.0</td>\n",
       "      <td>4.00</td>\n",
       "      <td>NZ</td>\n",
       "      <td>1.604616e+09</td>\n",
       "    </tr>\n",
       "  </tbody>\n",
       "</table>\n",
       "</div>"
      ],
      "text/plain": [
       "             City    Lat     Lon  Max Temp  Humidity  Cloudiness  Windspeed  \\\n",
       "0  saint-philippe -21.36   55.77     71.60      64.0        38.0       4.70   \n",
       "1        tasiilaq  65.61  -37.64     28.40      74.0        91.0       4.70   \n",
       "2         kahului  20.89 -156.47     91.40      43.0        40.0       3.36   \n",
       "3           kiama -34.68  150.87     62.01      67.0        60.0       7.00   \n",
       "4         mataura -46.19  168.86     55.99      76.0        46.0       4.00   \n",
       "\n",
       "  Country          Date  \n",
       "0      RE  1.604616e+09  \n",
       "1      GL  1.604616e+09  \n",
       "2      US  1.604615e+09  \n",
       "3      AU  1.604616e+09  \n",
       "4      NZ  1.604616e+09  "
      ]
     },
     "execution_count": 8,
     "metadata": {},
     "output_type": "execute_result"
    }
   ],
   "source": [
    "cities_pd = cities_pd.dropna()\n",
    "cities_pd.head()"
   ]
  },
  {
   "cell_type": "code",
   "execution_count": 9,
   "metadata": {},
   "outputs": [
    {
     "data": {
      "text/html": [
       "<div>\n",
       "<style scoped>\n",
       "    .dataframe tbody tr th:only-of-type {\n",
       "        vertical-align: middle;\n",
       "    }\n",
       "\n",
       "    .dataframe tbody tr th {\n",
       "        vertical-align: top;\n",
       "    }\n",
       "\n",
       "    .dataframe thead th {\n",
       "        text-align: right;\n",
       "    }\n",
       "</style>\n",
       "<table border=\"1\" class=\"dataframe\">\n",
       "  <thead>\n",
       "    <tr style=\"text-align: right;\">\n",
       "      <th></th>\n",
       "      <th>City</th>\n",
       "      <th>Lat</th>\n",
       "      <th>Lon</th>\n",
       "      <th>Max Temp</th>\n",
       "      <th>Humidity</th>\n",
       "      <th>Cloudiness</th>\n",
       "      <th>Windspeed</th>\n",
       "      <th>Country</th>\n",
       "      <th>Date</th>\n",
       "    </tr>\n",
       "  </thead>\n",
       "  <tbody>\n",
       "    <tr>\n",
       "      <th>310</th>\n",
       "      <td>barsovo</td>\n",
       "      <td>61.17</td>\n",
       "      <td>73.17</td>\n",
       "      <td>33.80</td>\n",
       "      <td>100.0</td>\n",
       "      <td>75.0</td>\n",
       "      <td>11.18</td>\n",
       "      <td>RU</td>\n",
       "      <td>1.604616e+09</td>\n",
       "    </tr>\n",
       "    <tr>\n",
       "      <th>588</th>\n",
       "      <td>arosa</td>\n",
       "      <td>46.78</td>\n",
       "      <td>9.68</td>\n",
       "      <td>43.00</td>\n",
       "      <td>100.0</td>\n",
       "      <td>90.0</td>\n",
       "      <td>3.36</td>\n",
       "      <td>CH</td>\n",
       "      <td>1.604616e+09</td>\n",
       "    </tr>\n",
       "    <tr>\n",
       "      <th>401</th>\n",
       "      <td>lasa</td>\n",
       "      <td>46.62</td>\n",
       "      <td>10.70</td>\n",
       "      <td>51.01</td>\n",
       "      <td>100.0</td>\n",
       "      <td>5.0</td>\n",
       "      <td>4.70</td>\n",
       "      <td>IT</td>\n",
       "      <td>1.604616e+09</td>\n",
       "    </tr>\n",
       "    <tr>\n",
       "      <th>597</th>\n",
       "      <td>sibu</td>\n",
       "      <td>2.30</td>\n",
       "      <td>111.82</td>\n",
       "      <td>75.20</td>\n",
       "      <td>100.0</td>\n",
       "      <td>20.0</td>\n",
       "      <td>2.24</td>\n",
       "      <td>MY</td>\n",
       "      <td>1.604616e+09</td>\n",
       "    </tr>\n",
       "    <tr>\n",
       "      <th>413</th>\n",
       "      <td>porgera</td>\n",
       "      <td>-5.47</td>\n",
       "      <td>143.20</td>\n",
       "      <td>43.59</td>\n",
       "      <td>100.0</td>\n",
       "      <td>100.0</td>\n",
       "      <td>1.21</td>\n",
       "      <td>PG</td>\n",
       "      <td>1.604616e+09</td>\n",
       "    </tr>\n",
       "  </tbody>\n",
       "</table>\n",
       "</div>"
      ],
      "text/plain": [
       "        City    Lat     Lon  Max Temp  Humidity  Cloudiness  Windspeed  \\\n",
       "310  barsovo  61.17   73.17     33.80     100.0        75.0      11.18   \n",
       "588    arosa  46.78    9.68     43.00     100.0        90.0       3.36   \n",
       "401     lasa  46.62   10.70     51.01     100.0         5.0       4.70   \n",
       "597     sibu   2.30  111.82     75.20     100.0        20.0       2.24   \n",
       "413  porgera  -5.47  143.20     43.59     100.0       100.0       1.21   \n",
       "\n",
       "    Country          Date  \n",
       "310      RU  1.604616e+09  \n",
       "588      CH  1.604616e+09  \n",
       "401      IT  1.604616e+09  \n",
       "597      MY  1.604616e+09  \n",
       "413      PG  1.604616e+09  "
      ]
     },
     "execution_count": 9,
     "metadata": {},
     "output_type": "execute_result"
    }
   ],
   "source": [
    "cities_pd = cities_pd.sort_values(\"Humidity\",ascending = False)\n",
    "cities_pd.head()"
   ]
  },
  {
   "cell_type": "code",
   "execution_count": 10,
   "metadata": {},
   "outputs": [],
   "source": [
    "cities_pd_clean = cities_pd.drop(cities_pd[cities_pd[\"Humidity\"]==100].index, inplace = True)\n"
   ]
  },
  {
   "cell_type": "markdown",
   "metadata": {},
   "source": [
    "## Inspect the data and remove the cities where the humidity > 100%.\n",
    "----\n",
    "Skip this step if there are no cities that have humidity > 100%. "
   ]
  },
  {
   "cell_type": "code",
   "execution_count": 11,
   "metadata": {},
   "outputs": [],
   "source": [
    "#  Get the indices of cities that have humidity over 100%.\n"
   ]
  },
  {
   "cell_type": "code",
   "execution_count": 12,
   "metadata": {},
   "outputs": [],
   "source": [
    "# Make a new DataFrame equal to the city data to drop all humidity outliers by index.\n",
    "# Passing \"inplace=False\" will make a copy of the city_data DataFrame, which we call \"clean_city_data\".\n"
   ]
  },
  {
   "cell_type": "code",
   "execution_count": 13,
   "metadata": {},
   "outputs": [
    {
     "data": {
      "text/html": [
       "<div>\n",
       "<style scoped>\n",
       "    .dataframe tbody tr th:only-of-type {\n",
       "        vertical-align: middle;\n",
       "    }\n",
       "\n",
       "    .dataframe tbody tr th {\n",
       "        vertical-align: top;\n",
       "    }\n",
       "\n",
       "    .dataframe thead th {\n",
       "        text-align: right;\n",
       "    }\n",
       "</style>\n",
       "<table border=\"1\" class=\"dataframe\">\n",
       "  <thead>\n",
       "    <tr style=\"text-align: right;\">\n",
       "      <th></th>\n",
       "      <th>City</th>\n",
       "      <th>Lat</th>\n",
       "      <th>Lon</th>\n",
       "      <th>Max Temp</th>\n",
       "      <th>Humidity</th>\n",
       "      <th>Cloudiness</th>\n",
       "      <th>Windspeed</th>\n",
       "      <th>Country</th>\n",
       "      <th>Date</th>\n",
       "    </tr>\n",
       "  </thead>\n",
       "  <tbody>\n",
       "    <tr>\n",
       "      <th>435</th>\n",
       "      <td>zyryanskoye</td>\n",
       "      <td>56.83</td>\n",
       "      <td>86.63</td>\n",
       "      <td>28.26</td>\n",
       "      <td>99.0</td>\n",
       "      <td>100.0</td>\n",
       "      <td>3.09</td>\n",
       "      <td>RU</td>\n",
       "      <td>1.604616e+09</td>\n",
       "    </tr>\n",
       "    <tr>\n",
       "      <th>237</th>\n",
       "      <td>novoagansk</td>\n",
       "      <td>61.94</td>\n",
       "      <td>76.66</td>\n",
       "      <td>29.35</td>\n",
       "      <td>99.0</td>\n",
       "      <td>100.0</td>\n",
       "      <td>6.87</td>\n",
       "      <td>RU</td>\n",
       "      <td>1.604616e+09</td>\n",
       "    </tr>\n",
       "    <tr>\n",
       "      <th>381</th>\n",
       "      <td>aksarka</td>\n",
       "      <td>66.56</td>\n",
       "      <td>67.80</td>\n",
       "      <td>28.33</td>\n",
       "      <td>99.0</td>\n",
       "      <td>100.0</td>\n",
       "      <td>12.88</td>\n",
       "      <td>RU</td>\n",
       "      <td>1.604616e+09</td>\n",
       "    </tr>\n",
       "    <tr>\n",
       "      <th>475</th>\n",
       "      <td>iskateley</td>\n",
       "      <td>67.68</td>\n",
       "      <td>53.15</td>\n",
       "      <td>35.11</td>\n",
       "      <td>98.0</td>\n",
       "      <td>100.0</td>\n",
       "      <td>5.03</td>\n",
       "      <td>RU</td>\n",
       "      <td>1.604616e+09</td>\n",
       "    </tr>\n",
       "    <tr>\n",
       "      <th>195</th>\n",
       "      <td>leningradskiy</td>\n",
       "      <td>69.38</td>\n",
       "      <td>178.42</td>\n",
       "      <td>32.27</td>\n",
       "      <td>98.0</td>\n",
       "      <td>100.0</td>\n",
       "      <td>20.02</td>\n",
       "      <td>RU</td>\n",
       "      <td>1.604616e+09</td>\n",
       "    </tr>\n",
       "  </tbody>\n",
       "</table>\n",
       "</div>"
      ],
      "text/plain": [
       "              City    Lat     Lon  Max Temp  Humidity  Cloudiness  Windspeed  \\\n",
       "435    zyryanskoye  56.83   86.63     28.26      99.0       100.0       3.09   \n",
       "237     novoagansk  61.94   76.66     29.35      99.0       100.0       6.87   \n",
       "381        aksarka  66.56   67.80     28.33      99.0       100.0      12.88   \n",
       "475      iskateley  67.68   53.15     35.11      98.0       100.0       5.03   \n",
       "195  leningradskiy  69.38  178.42     32.27      98.0       100.0      20.02   \n",
       "\n",
       "    Country          Date  \n",
       "435      RU  1.604616e+09  \n",
       "237      RU  1.604616e+09  \n",
       "381      RU  1.604616e+09  \n",
       "475      RU  1.604616e+09  \n",
       "195      RU  1.604616e+09  "
      ]
     },
     "execution_count": 13,
     "metadata": {},
     "output_type": "execute_result"
    }
   ],
   "source": [
    "cities_pd_clean = cities_pd\n",
    "cities_pd_clean.head()"
   ]
  },
  {
   "cell_type": "markdown",
   "metadata": {},
   "source": [
    "## Plotting the Data\n",
    "* Use proper labeling of the plots using plot titles (including date of analysis) and axes labels.\n",
    "* Save the plotted figures as .pngs."
   ]
  },
  {
   "cell_type": "markdown",
   "metadata": {},
   "source": [
    "## Latitude vs. Temperature Plot"
   ]
  },
  {
   "cell_type": "code",
   "execution_count": 14,
   "metadata": {
    "scrolled": true
   },
   "outputs": [
    {
     "data": {
      "image/png": "[encoded data removed]",
      "text/plain": [
       "<Figure size 432x288 with 1 Axes>"
      ]
     },
     "metadata": {
      "needs_background": "light"
     },
     "output_type": "display_data"
    }
   ],
   "source": [
    "cities_pd_clean_L_T = cities_pd_clean[[\"Max Temp\", \"Lat\"]]\n",
    "# cities_pd_clean_L_T.head()\n",
    "cities_pd_clean_L_T.plot.scatter(x = \"Max Temp\" , y = \"Lat\", title = \"Temperature (F) vs. Latitude\")\n",
    "plt.xlabel(\"Max Temp (F)\")\n",
    "plt.ylabel(\"Latitude\")\n",
    "plt.savefig(\"../Images/LatvsTemp.png\")\n",
    "\n",
    "# This graph shows that cities closer to the equator have higher temperatures"
   ]
  },
  {
   "cell_type": "markdown",
   "metadata": {},
   "source": [
    "## Latitude vs. Humidity Plot"
   ]
  },
  {
   "cell_type": "code",
   "execution_count": 15,
   "metadata": {},
   "outputs": [
    {
     "data": {
      "image/png": "[encoded data removed]",
      "text/plain": [
       "<Figure size 432x288 with 1 Axes>"
      ]
     },
     "metadata": {
      "needs_background": "light"
     },
     "output_type": "display_data"
    }
   ],
   "source": [
    "cities_pd_clean_L_H = cities_pd_clean[[\"Humidity\",\"Lat\"]]\n",
    "# cities_pd_clean_L_H.head()\n",
    "cities_pd_clean_L_H.plot.scatter(x = \"Humidity\" , y = \"Lat\", title=\"Humidity (%) vs. Latitude\")\n",
    "plt.xlabel(\"Humidity (%)\")\n",
    "plt.ylabel(\"Latitude\")\n",
    "plt.savefig(\"../Images/LatvsHumidity.png\")\n",
    "\n",
    "# This graph shows that cities close to the tropics and the subtropics tend to have \n",
    "# high humity weather conditions (60-100% Humidity)"
   ]
  },
  {
   "cell_type": "markdown",
   "metadata": {},
   "source": [
    "## Latitude vs. Cloudiness Plot"
   ]
  },
  {
   "cell_type": "code",
   "execution_count": 16,
   "metadata": {},
   "outputs": [
    {
     "data": {
      "image/png": "[encoded data removed]",
      "text/plain": [
       "<Figure size 432x288 with 1 Axes>"
      ]
     },
     "metadata": {
      "needs_background": "light"
     },
     "output_type": "display_data"
    }
   ],
   "source": [
    "cities_pd_clean_L_C = cities_pd_clean[[\"Cloudiness\", \"Lat\"]]\n",
    "# cities_pd_clean_L_C.head()\n",
    "cities_pd_clean_L_C.plot.scatter(x =\"Cloudiness\", y = \"Lat\", title = \"Cloudiness (%) vs. Latitude\")\n",
    "plt.xlabel(\"Cloudiness (%)\")\n",
    "plt.ylabel(\"Latitude\")\n",
    "plt.savefig(\"../Images/LatvsCloudiness.png\")\n",
    "\n",
    "# This graph shows that cities close to the tropics and the subtropics don't show  \n",
    "# a patter on haveing more or less cloud cover depending on the latitude"
   ]
  },
  {
   "cell_type": "markdown",
   "metadata": {},
   "source": [
    "## Latitude vs. Wind Speed Plot"
   ]
  },
  {
   "cell_type": "code",
   "execution_count": 17,
   "metadata": {},
   "outputs": [
    {
     "data": {
      "image/png": "[encoded data removed]",
      "text/plain": [
       "<Figure size 432x288 with 1 Axes>"
      ]
     },
     "metadata": {
      "needs_background": "light"
     },
     "output_type": "display_data"
    }
   ],
   "source": [
    "cities_pd_clean_L_W = cities_pd_clean[[\"Windspeed\", \"Lat\"]]\n",
    "# cities_pd_clean_L_W.head()\n",
    "cities_pd_clean_L_W.plot.scatter(x =\"Windspeed\" , y = \"Lat\", title = \" Wind Speed (mph) vs. Latitude\")\n",
    "plt.xlabel(\"Wind Speed (mph)\")\n",
    "plt.ylabel(\"Latitude\")\n",
    "plt.savefig(\"../Images/LatvsWindSpeed.png\")\n",
    "\n",
    "# This graph shows that cities close to the tropics and the subtropics tend to have \n",
    "# mild wind speed conditions (0-15mph)"
   ]
  },
  {
   "cell_type": "markdown",
   "metadata": {},
   "source": [
    "## Linear Regression"
   ]
  },
  {
   "cell_type": "code",
   "execution_count": 18,
   "metadata": {},
   "outputs": [
    {
     "data": {
      "text/html": [
       "<div>\n",
       "<style scoped>\n",
       "    .dataframe tbody tr th:only-of-type {\n",
       "        vertical-align: middle;\n",
       "    }\n",
       "\n",
       "    .dataframe tbody tr th {\n",
       "        vertical-align: top;\n",
       "    }\n",
       "\n",
       "    .dataframe thead th {\n",
       "        text-align: right;\n",
       "    }\n",
       "</style>\n",
       "<table border=\"1\" class=\"dataframe\">\n",
       "  <thead>\n",
       "    <tr style=\"text-align: right;\">\n",
       "      <th></th>\n",
       "      <th>City</th>\n",
       "      <th>Lat</th>\n",
       "      <th>Lon</th>\n",
       "      <th>Max Temp</th>\n",
       "      <th>Humidity</th>\n",
       "      <th>Cloudiness</th>\n",
       "      <th>Windspeed</th>\n",
       "      <th>Country</th>\n",
       "      <th>Date</th>\n",
       "    </tr>\n",
       "  </thead>\n",
       "  <tbody>\n",
       "    <tr>\n",
       "      <th>435</th>\n",
       "      <td>zyryanskoye</td>\n",
       "      <td>56.83</td>\n",
       "      <td>86.63</td>\n",
       "      <td>28.26</td>\n",
       "      <td>99.0</td>\n",
       "      <td>100.0</td>\n",
       "      <td>3.09</td>\n",
       "      <td>RU</td>\n",
       "      <td>1.604616e+09</td>\n",
       "    </tr>\n",
       "    <tr>\n",
       "      <th>237</th>\n",
       "      <td>novoagansk</td>\n",
       "      <td>61.94</td>\n",
       "      <td>76.66</td>\n",
       "      <td>29.35</td>\n",
       "      <td>99.0</td>\n",
       "      <td>100.0</td>\n",
       "      <td>6.87</td>\n",
       "      <td>RU</td>\n",
       "      <td>1.604616e+09</td>\n",
       "    </tr>\n",
       "    <tr>\n",
       "      <th>381</th>\n",
       "      <td>aksarka</td>\n",
       "      <td>66.56</td>\n",
       "      <td>67.80</td>\n",
       "      <td>28.33</td>\n",
       "      <td>99.0</td>\n",
       "      <td>100.0</td>\n",
       "      <td>12.88</td>\n",
       "      <td>RU</td>\n",
       "      <td>1.604616e+09</td>\n",
       "    </tr>\n",
       "    <tr>\n",
       "      <th>475</th>\n",
       "      <td>iskateley</td>\n",
       "      <td>67.68</td>\n",
       "      <td>53.15</td>\n",
       "      <td>35.11</td>\n",
       "      <td>98.0</td>\n",
       "      <td>100.0</td>\n",
       "      <td>5.03</td>\n",
       "      <td>RU</td>\n",
       "      <td>1.604616e+09</td>\n",
       "    </tr>\n",
       "    <tr>\n",
       "      <th>195</th>\n",
       "      <td>leningradskiy</td>\n",
       "      <td>69.38</td>\n",
       "      <td>178.42</td>\n",
       "      <td>32.27</td>\n",
       "      <td>98.0</td>\n",
       "      <td>100.0</td>\n",
       "      <td>20.02</td>\n",
       "      <td>RU</td>\n",
       "      <td>1.604616e+09</td>\n",
       "    </tr>\n",
       "  </tbody>\n",
       "</table>\n",
       "</div>"
      ],
      "text/plain": [
       "              City    Lat     Lon  Max Temp  Humidity  Cloudiness  Windspeed  \\\n",
       "435    zyryanskoye  56.83   86.63     28.26      99.0       100.0       3.09   \n",
       "237     novoagansk  61.94   76.66     29.35      99.0       100.0       6.87   \n",
       "381        aksarka  66.56   67.80     28.33      99.0       100.0      12.88   \n",
       "475      iskateley  67.68   53.15     35.11      98.0       100.0       5.03   \n",
       "195  leningradskiy  69.38  178.42     32.27      98.0       100.0      20.02   \n",
       "\n",
       "    Country          Date  \n",
       "435      RU  1.604616e+09  \n",
       "237      RU  1.604616e+09  \n",
       "381      RU  1.604616e+09  \n",
       "475      RU  1.604616e+09  \n",
       "195      RU  1.604616e+09  "
      ]
     },
     "execution_count": 18,
     "metadata": {},
     "output_type": "execute_result"
    }
   ],
   "source": [
    "cities_pd_clean_N = cities_pd_clean.loc[cities_pd_clean[\"Lat\"]>0]\n",
    "cities_pd_clean_N.head()"
   ]
  },
  {
   "cell_type": "markdown",
   "metadata": {},
   "source": [
    "####  Northern Hemisphere - Max Temp vs. Latitude Linear Regression"
   ]
  },
  {
   "cell_type": "code",
   "execution_count": 19,
   "metadata": {
    "scrolled": true
   },
   "outputs": [
    {
     "data": {
      "image/png": "[encoded data removed]",
      "text/plain": [
       "<Figure size 432x288 with 1 Axes>"
      ]
     },
     "metadata": {
      "needs_background": "light"
     },
     "output_type": "display_data"
    }
   ],
   "source": [
    "cities_pd_clean_N.plot.scatter(x = \"Max Temp\" ,y = \"Lat\")\n",
    "\n",
    "x_values = cities_pd_clean_N['Max Temp']\n",
    "y_values = cities_pd_clean_N['Lat']\n",
    "(slope, intercept, rvalue, pvalue, stderr) = linregress(x_values, y_values)\n",
    "regress_values = x_values * slope + intercept\n",
    "line_eq = \"y = \" + str(round(slope,2)) + \"x + \" + str(round(intercept,2))\n",
    "plt.scatter(x_values,y_values)\n",
    "plt.plot(x_values,regress_values,\"r-\")\n",
    "plt.annotate(line_eq,(6,10),fontsize=15,color=\"red\")\n",
    "plt.title(\"Northern Hemisphere - Max Temp vs. Latitude Linear Regression\")\n",
    "plt.xlabel('Max Temp')\n",
    "plt.ylabel('Latitude')\n",
    "plt.savefig(\"../Images/NLat_vs_Temp.png\")\n",
    "plt.show()\n",
    "\n",
    "# the linear regression explains a high correllation between latitude and Air Temperature\n",
    "# the closer to the equator the higher the air temperature gets. "
   ]
  },
  {
   "cell_type": "markdown",
   "metadata": {},
   "source": [
    "####  Southern Hemisphere - Max Temp vs. Latitude Linear Regression"
   ]
  },
  {
   "cell_type": "code",
   "execution_count": 20,
   "metadata": {},
   "outputs": [
    {
     "data": {
      "text/html": [
       "<div>\n",
       "<style scoped>\n",
       "    .dataframe tbody tr th:only-of-type {\n",
       "        vertical-align: middle;\n",
       "    }\n",
       "\n",
       "    .dataframe tbody tr th {\n",
       "        vertical-align: top;\n",
       "    }\n",
       "\n",
       "    .dataframe thead th {\n",
       "        text-align: right;\n",
       "    }\n",
       "</style>\n",
       "<table border=\"1\" class=\"dataframe\">\n",
       "  <thead>\n",
       "    <tr style=\"text-align: right;\">\n",
       "      <th></th>\n",
       "      <th>City</th>\n",
       "      <th>Lat</th>\n",
       "      <th>Lon</th>\n",
       "      <th>Max Temp</th>\n",
       "      <th>Humidity</th>\n",
       "      <th>Cloudiness</th>\n",
       "      <th>Windspeed</th>\n",
       "      <th>Country</th>\n",
       "      <th>Date</th>\n",
       "    </tr>\n",
       "  </thead>\n",
       "  <tbody>\n",
       "    <tr>\n",
       "      <th>74</th>\n",
       "      <td>waiouru</td>\n",
       "      <td>-39.48</td>\n",
       "      <td>175.67</td>\n",
       "      <td>53.22</td>\n",
       "      <td>97.0</td>\n",
       "      <td>100.0</td>\n",
       "      <td>6.44</td>\n",
       "      <td>NZ</td>\n",
       "      <td>1.604616e+09</td>\n",
       "    </tr>\n",
       "    <tr>\n",
       "      <th>116</th>\n",
       "      <td>amuntai</td>\n",
       "      <td>-2.42</td>\n",
       "      <td>115.25</td>\n",
       "      <td>75.87</td>\n",
       "      <td>97.0</td>\n",
       "      <td>100.0</td>\n",
       "      <td>0.85</td>\n",
       "      <td>ID</td>\n",
       "      <td>1.604616e+09</td>\n",
       "    </tr>\n",
       "    <tr>\n",
       "      <th>82</th>\n",
       "      <td>kruisfontein</td>\n",
       "      <td>-34.00</td>\n",
       "      <td>24.73</td>\n",
       "      <td>62.01</td>\n",
       "      <td>94.0</td>\n",
       "      <td>63.0</td>\n",
       "      <td>7.83</td>\n",
       "      <td>ZA</td>\n",
       "      <td>1.604616e+09</td>\n",
       "    </tr>\n",
       "    <tr>\n",
       "      <th>509</th>\n",
       "      <td>sao felix do xingu</td>\n",
       "      <td>-6.64</td>\n",
       "      <td>-51.99</td>\n",
       "      <td>74.26</td>\n",
       "      <td>94.0</td>\n",
       "      <td>100.0</td>\n",
       "      <td>3.69</td>\n",
       "      <td>BR</td>\n",
       "      <td>1.604616e+09</td>\n",
       "    </tr>\n",
       "    <tr>\n",
       "      <th>60</th>\n",
       "      <td>carnarvon</td>\n",
       "      <td>-24.87</td>\n",
       "      <td>113.63</td>\n",
       "      <td>69.80</td>\n",
       "      <td>94.0</td>\n",
       "      <td>75.0</td>\n",
       "      <td>16.11</td>\n",
       "      <td>AU</td>\n",
       "      <td>1.604616e+09</td>\n",
       "    </tr>\n",
       "  </tbody>\n",
       "</table>\n",
       "</div>"
      ],
      "text/plain": [
       "                   City    Lat     Lon  Max Temp  Humidity  Cloudiness  \\\n",
       "74              waiouru -39.48  175.67     53.22      97.0       100.0   \n",
       "116             amuntai  -2.42  115.25     75.87      97.0       100.0   \n",
       "82         kruisfontein -34.00   24.73     62.01      94.0        63.0   \n",
       "509  sao felix do xingu  -6.64  -51.99     74.26      94.0       100.0   \n",
       "60            carnarvon -24.87  113.63     69.80      94.0        75.0   \n",
       "\n",
       "     Windspeed Country          Date  \n",
       "74        6.44      NZ  1.604616e+09  \n",
       "116       0.85      ID  1.604616e+09  \n",
       "82        7.83      ZA  1.604616e+09  \n",
       "509       3.69      BR  1.604616e+09  \n",
       "60       16.11      AU  1.604616e+09  "
      ]
     },
     "execution_count": 20,
     "metadata": {},
     "output_type": "execute_result"
    }
   ],
   "source": [
    "cities_pd_clean_S = cities_pd_clean.loc[cities_pd_clean[\"Lat\"]<0]\n",
    "cities_pd_clean_S.head()"
   ]
  },
  {
   "cell_type": "code",
   "execution_count": 21,
   "metadata": {},
   "outputs": [
    {
     "data": {
      "image/png": "[encoded data removed]",
      "text/plain": [
       "<Figure size 432x288 with 1 Axes>"
      ]
     },
     "metadata": {
      "needs_background": "light"
     },
     "output_type": "display_data"
    },
    {
     "name": "stdout",
     "output_type": "stream",
     "text": [
      "y = 1.08x + -97.8\n"
     ]
    }
   ],
   "source": [
    "cities_pd_clean_S.plot.scatter(x = \"Max Temp\" ,y = \"Lat\")\n",
    "\n",
    "x_values = cities_pd_clean_S['Max Temp']\n",
    "y_values = cities_pd_clean_S['Lat']\n",
    "(slope, intercept, rvalue, pvalue, stderr) = linregress(x_values, y_values)\n",
    "regress_values = x_values * slope + intercept\n",
    "line_eq = \"y = \" + str(round(slope,2)) + \"x + \" + str(round(intercept,2))\n",
    "plt.scatter(x_values,y_values)\n",
    "plt.plot(x_values,regress_values,\"r-\")\n",
    "plt.annotate(line_eq,(60,-10),fontsize=15,color=\"red\")\n",
    "plt.title(\"Souther Hemisphere - Max Temp vs. Latitude Linear Regression\")\n",
    "plt.xlabel('Max Temp')\n",
    "plt.ylabel('Latitude')\n",
    "plt.savefig(\"../Images/SLat_vs_Temp.png\")\n",
    "plt.show()\n",
    "\n",
    "print(line_eq)\n",
    "\n",
    "# the linear regression explains a high correllation between latitude and Air Temperature\n",
    "# the closer to the equator the higher the air temperature gets. "
   ]
  },
  {
   "cell_type": "markdown",
   "metadata": {},
   "source": [
    "####  Northern Hemisphere - Humidity (%) vs. Latitude Linear Regression"
   ]
  },
  {
   "cell_type": "code",
   "execution_count": 22,
   "metadata": {},
   "outputs": [
    {
     "data": {
      "image/png": "[encoded data removed]",
      "text/plain": [
       "<Figure size 432x288 with 1 Axes>"
      ]
     },
     "metadata": {
      "needs_background": "light"
     },
     "output_type": "display_data"
    }
   ],
   "source": [
    "cities_pd_clean_N.plot.scatter(x = \"Humidity\" ,y = \"Lat\")\n",
    "\n",
    "x_values = cities_pd_clean_N['Humidity']\n",
    "y_values = cities_pd_clean_N['Lat']\n",
    "(slope, intercept, rvalue, pvalue, stderr) = linregress(x_values, y_values)\n",
    "regress_values = x_values * slope + intercept\n",
    "line_eq = \"y = \" + str(round(slope,2)) + \"x + \" + str(round(intercept,2))\n",
    "plt.scatter(x_values,y_values)\n",
    "plt.plot(x_values,regress_values,\"r-\")\n",
    "plt.annotate(line_eq,(6,10),fontsize=15,color=\"red\")\n",
    "plt.title(\"Northern Hemisphere - Humidity (%) vs. Latitude Linear Regression\")\n",
    "plt.xlabel('Humidity (%)')\n",
    "plt.ylabel('Latitude')\n",
    "plt.savefig(\"../Images/NLat_vs_Humidity.png\")\n",
    "plt.show()\n",
    "\n",
    "# the linear regression does not show a strong relationship between humidity and latitude\n"
   ]
  },
  {
   "cell_type": "markdown",
   "metadata": {},
   "source": [
    "####  Southern Hemisphere - Humidity (%) vs. Latitude Linear Regression"
   ]
  },
  {
   "cell_type": "code",
   "execution_count": 23,
   "metadata": {},
   "outputs": [
    {
     "data": {
      "image/png": "[encoded data removed]",
      "text/plain": [
       "<Figure size 432x288 with 1 Axes>"
      ]
     },
     "metadata": {
      "needs_background": "light"
     },
     "output_type": "display_data"
    }
   ],
   "source": [
    "cities_pd_clean_S.plot.scatter(x = \"Humidity\" ,y = \"Lat\")\n",
    "\n",
    "x_values = cities_pd_clean_S['Humidity']\n",
    "y_values = cities_pd_clean_S['Lat']\n",
    "(slope, intercept, rvalue, pvalue, stderr) = linregress(x_values, y_values)\n",
    "regress_values = x_values * slope + intercept\n",
    "line_eq = \"y = \" + str(round(slope,2)) + \"x + \" + str(round(intercept,2))\n",
    "plt.scatter(x_values,y_values)\n",
    "plt.plot(x_values,regress_values,\"r-\")\n",
    "plt.annotate(line_eq,(60,-10),fontsize=15,color=\"red\")\n",
    "plt.title(\"Southern Hemisphere - Humidity (%) vs. Latitude Linear Regression\")\n",
    "plt.xlabel('Humidity (%)')\n",
    "plt.ylabel('Latitude')\n",
    "plt.savefig(\"../Images/SLat_vs_Humidity.png\")\n",
    "plt.show()\n",
    "\n",
    "# the linear regression does not show a strong relationship between humidity and latitude\n"
   ]
  },
  {
   "cell_type": "markdown",
   "metadata": {},
   "source": [
    "####  Northern Hemisphere - Cloudiness (%) vs. Latitude Linear Regression"
   ]
  },
  {
   "cell_type": "code",
   "execution_count": 24,
   "metadata": {},
   "outputs": [
    {
     "data": {
      "image/png": "[encoded data removed]",
      "text/plain": [
       "<Figure size 432x288 with 1 Axes>"
      ]
     },
     "metadata": {
      "needs_background": "light"
     },
     "output_type": "display_data"
    }
   ],
   "source": [
    "cities_pd_clean_N.plot.scatter(x = \"Cloudiness\" ,y = \"Lat\")\n",
    "\n",
    "x_values = cities_pd_clean_N['Cloudiness']\n",
    "y_values = cities_pd_clean_N['Lat']\n",
    "(slope, intercept, rvalue, pvalue, stderr) = linregress(x_values, y_values)\n",
    "regress_values = x_values * slope + intercept\n",
    "line_eq = \"y = \" + str(round(slope,2)) + \"x + \" + str(round(intercept,2))\n",
    "plt.scatter(x_values,y_values)\n",
    "plt.plot(x_values,regress_values,\"r-\")\n",
    "plt.annotate(line_eq,(6,10),fontsize=15,color=\"red\")\n",
    "plt.title(\"Northern Hemisphere - Cloudiness (%) vs. Latitude Linear Regression\")\n",
    "plt.xlabel('Cloudiness (%)')\n",
    "plt.ylabel('Latitude')\n",
    "plt.savefig(\"../Images/NLat_vs_Cloudiness.png\")\n",
    "plt.show()\n",
    "\n",
    "# the linear regression does not show a strong relationship between cloudiness and latitude\n"
   ]
  },
  {
   "cell_type": "markdown",
   "metadata": {},
   "source": [
    "####  Southern Hemisphere - Cloudiness (%) vs. Latitude Linear Regression"
   ]
  },
  {
   "cell_type": "code",
   "execution_count": 25,
   "metadata": {},
   "outputs": [
    {
     "data": {
      "image/png": "[encoded data removed]",
      "text/plain": [
       "<Figure size 432x288 with 1 Axes>"
      ]
     },
     "metadata": {
      "needs_background": "light"
     },
     "output_type": "display_data"
    }
   ],
   "source": [
    "cities_pd_clean_S.plot.scatter(x = \"Cloudiness\" ,y = \"Lat\")\n",
    "\n",
    "x_values = cities_pd_clean_S['Cloudiness']\n",
    "y_values = cities_pd_clean_S['Lat']\n",
    "(slope, intercept, rvalue, pvalue, stderr) = linregress(x_values, y_values)\n",
    "regress_values = x_values * slope + intercept\n",
    "line_eq = \"y = \" + str(round(slope,2)) + \"x + \" + str(round(intercept,2))\n",
    "plt.scatter(x_values,y_values)\n",
    "plt.plot(x_values,regress_values,\"r-\")\n",
    "plt.annotate(line_eq,(60,-10),fontsize=15,color=\"red\")\n",
    "plt.title(\"Souther Hemisphere - Cloudiness (%) vs. Latitude Linear Regression\")\n",
    "plt.xlabel('Cloudiness (%)')\n",
    "plt.ylabel('Latitude')\n",
    "plt.savefig(\"../Images/SLat_vs_Cloudiness.png\")\n",
    "plt.show()\n",
    "\n",
    "# the linear regression does not show a strong relationship between cloudiness and latitude\n"
   ]
  },
  {
   "cell_type": "markdown",
   "metadata": {},
   "source": [
    "####  Northern Hemisphere - Wind Speed (mph) vs. Latitude Linear Regression"
   ]
  },
  {
   "cell_type": "code",
   "execution_count": 26,
   "metadata": {},
   "outputs": [
    {
     "data": {
      "image/png": "[encoded data removed]",
      "text/plain": [
       "<Figure size 432x288 with 1 Axes>"
      ]
     },
     "metadata": {
      "needs_background": "light"
     },
     "output_type": "display_data"
    }
   ],
   "source": [
    "cities_pd_clean_N.plot.scatter(x = \"Windspeed\" ,y = \"Lat\")\n",
    "\n",
    "x_values = cities_pd_clean_N['Windspeed']\n",
    "y_values = cities_pd_clean_N['Lat']\n",
    "(slope, intercept, rvalue, pvalue, stderr) = linregress(x_values, y_values)\n",
    "regress_values = x_values * slope + intercept\n",
    "line_eq = \"y = \" + str(round(slope,2)) + \"x + \" + str(round(intercept,2))\n",
    "plt.scatter(x_values,y_values)\n",
    "plt.plot(x_values,regress_values,\"r-\")\n",
    "plt.annotate(line_eq,(6,10),fontsize=15,color=\"red\")\n",
    "plt.title(\"Northern Hemisphere - Wind Speed (mph) vs. Latitude Linear Regression\")\n",
    "plt.xlabel('Wind Speed (mph)')\n",
    "plt.ylabel('Latitude')\n",
    "plt.savefig(\"../Images/NLat_vs_Windspeed.png\")\n",
    "plt.show()\n",
    "\n",
    "# the linear regression does not show a strong relationship between windspeed and latitude\n"
   ]
  },
  {
   "cell_type": "markdown",
   "metadata": {},
   "source": [
    "####  Southern Hemisphere - Wind Speed (mph) vs. Latitude Linear Regression"
   ]
  },
  {
   "cell_type": "code",
   "execution_count": 27,
   "metadata": {},
   "outputs": [
    {
     "data": {
      "image/png": "[encoded data removed]",
      "text/plain": [
       "<Figure size 432x288 with 1 Axes>"
      ]
     },
     "metadata": {
      "needs_background": "light"
     },
     "output_type": "display_data"
    },
    {
     "name": "stdout",
     "output_type": "stream",
     "text": [
      "y = -0.69x + -15.51\n"
     ]
    }
   ],
   "source": [
    "cities_pd_clean_S.plot.scatter(x = \"Windspeed\" ,y = \"Lat\")\n",
    "\n",
    "x_values = cities_pd_clean_S['Windspeed']\n",
    "y_values = cities_pd_clean_S['Lat']\n",
    "(slope, intercept, rvalue, pvalue, stderr) = linregress(x_values, y_values)\n",
    "regress_values = x_values * slope + intercept\n",
    "line_eq = \"y = \" + str(round(slope,2)) + \"x + \" + str(round(intercept,2))\n",
    "plt.scatter(x_values,y_values)\n",
    "plt.plot(x_values,regress_values,\"r-\")\n",
    "plt.annotate(line_eq,(60,-10),fontsize=15,color=\"red\")\n",
    "plt.title(\"Southern Hemisphere - Wind Speed (mph) vs. Latitude Linear Regression\")\n",
    "plt.xlabel('Wind Speed (mph)')\n",
    "plt.ylabel('Latitude')\n",
    "plt.savefig(\"../Images/SLat_vs_Windspeed.png\")\n",
    "plt.show()\n",
    "print(line_eq)\n",
    "\n",
    "# the linear regression does not show a strong relationship between wind speed and latitude\n"
   ]
  },
  {
   "cell_type": "code",
   "execution_count": null,
   "metadata": {},
   "outputs": [],
   "source": []
  }
 ],
 "metadata": {
  "anaconda-cloud": {},
  "kernel_info": {
   "name": "python3"
  },
  "kernelspec": {
   "display_name": "Python 3",
   "language": "python",
   "name": "python3"
  },
  "language_info": {
   "codemirror_mode": {
    "name": "ipython",
    "version": 3
   },
   "file_extension": ".py",
   "mimetype": "text/x-python",
   "name": "python",
   "nbconvert_exporter": "python",
   "pygments_lexer": "ipython3",
   "version": "3.6.10"
  },
  "latex_envs": {
   "LaTeX_envs_menu_present": true,
   "autoclose": false,
   "autocomplete": true,
   "bibliofile": "biblio.bib",
   "cite_by": "apalike",
   "current_citInitial": 1,
   "eqLabelWithNumbers": true,
   "eqNumInitial": 1,
   "hotkeys": {
    "equation": "Ctrl-E",
    "itemize": "Ctrl-I"
   },
   "labels_anchors": false,
   "latex_user_defs": false,
   "report_style_numbering": false,
   "user_envs_cfg": false
  },
  "nteract": {
   "version": "0.12.3"
  }
 },
 "nbformat": 4,
 "nbformat_minor": 2
}

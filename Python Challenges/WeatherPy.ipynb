{
 "cells": [
  {
   "cell_type": "markdown",
   "metadata": {},
   "source": [
    "# WeatherPy\n",
    "----\n",
    "\n",
    "#### Note\n",
    "* Instructions have been included for each segment. You do not have to follow them exactly, but they are included to help you think through the steps."
   ]
  },
  {
   "cell_type": "code",
   "execution_count": 1,
   "metadata": {
    "scrolled": true
   },
   "outputs": [],
   "source": [
    "# Dependencies and Setup\n",
    "import matplotlib.pyplot as plt\n",
    "import pandas as pd\n",
    "import numpy as np\n",
    "import requests\n",
    "import json\n",
    "import time\n",
    "import gmaps\n",
    "from scipy.stats import linregress\n",
    "from pprint import pprint\n",
    "\n",
    "# Import API key\n",
    "from api_keys import weather_api_key\n",
    "from api_keys import g_key\n",
    "\n",
    "# Incorporated citipy to determine city based on latitude and longitude\n",
    "from citipy import citipy\n",
    "\n",
    "# # Output File (CSV)\n",
    "# output_data_file = \"output_data/cities.csv\"\n",
    "\n",
    "# Range of latitudes and longitudes\n",
    "lat_range = (-90, 90)\n",
    "lng_range = (-180, 180)\n",
    "\n",
    "# print(weather_api_key)\n",
    "# print(g_key)\n"
   ]
  },
  {
   "cell_type": "markdown",
   "metadata": {},
   "source": [
    "## Generate Cities List"
   ]
  },
  {
   "cell_type": "code",
   "execution_count": 2,
   "metadata": {},
   "outputs": [
    {
     "name": "stdout",
     "output_type": "stream",
     "text": [
      "646\n"
     ]
    }
   ],
   "source": [
    "# List for holding lat_lngs and cities\n",
    "lat_lngs = []\n",
    "cities = []\n",
    "\n",
    "# Create a set of random lat and lng combinations\n",
    "lats = np.random.uniform(lat_range[0], lat_range[1], size=1500)\n",
    "lngs = np.random.uniform(lng_range[0], lng_range[1], size=1500)\n",
    "lat_lngs = zip(lats, lngs)\n",
    "\n",
    "# Identify nearest city for each lat, lng combination\n",
    "for lat_lng in lat_lngs:\n",
    "    city = citipy.nearest_city(lat_lng[0], lat_lng[1]).city_name\n",
    "    \n",
    "    # If the city is unique, then add it to a our cities list\n",
    "    if city not in cities:\n",
    "        cities.append(city)\n",
    "\n",
    "# Print the city count to confirm sufficient count\n",
    "# len(cities)\n",
    "# cities_df = pd.DataFrame(cities)\n",
    "# cities_df.head()\n",
    "# print(len(cities))\n",
    "print(len(cities))"
   ]
  },
  {
   "cell_type": "markdown",
   "metadata": {},
   "source": [
    "### Perform API Calls\n",
    "* Perform a weather check on each city using a series of successive API calls.\n",
    "* Include a print log of each city as it'sbeing processed (with the city number and city name).\n"
   ]
  },
  {
   "cell_type": "code",
   "execution_count": 3,
   "metadata": {},
   "outputs": [
    {
     "name": "stdout",
     "output_type": "stream",
     "text": [
      "37.1\n",
      "-113.58\n",
      "48.2\n",
      "31\n",
      "1\n",
      "3.56\n",
      "'US'\n",
      "'Saint George'\n",
      "1604072418\n"
     ]
    }
   ],
   "source": [
    "#URL for GET requests to retrieve weather data - to test one city and see what kind of data we can retrieve\n",
    "\n",
    "cities\n",
    "url = \"http://api.openweathermap.org/data/2.5/weather?\"\n",
    "units = \"imperial\"\n",
    "city = \"saint george\"\n",
    "\n",
    "# Build query URL\n",
    "query_url = (url + \"appid=\" + weather_api_key + \"&units=\" + units +\"&q=\")\n",
    "query_url_city = query_url + city\n",
    "\n",
    "# make request    \n",
    "weather_response = requests.get(query_url_city)\n",
    "\n",
    "# convert to json\n",
    "weather_json = weather_response.json()\n",
    "\n",
    "# print (query_url)\n",
    "# pprint(weather_json)\n",
    "\n",
    "\n",
    "pprint(weather_json['coord']['lat'])\n",
    "pprint(weather_json['coord']['lon'])\n",
    "pprint(weather_json['main']['temp_max'])\n",
    "pprint(weather_json['main']['humidity'])\n",
    "pprint(weather_json['clouds']['all'])\n",
    "pprint(weather_json['wind']['speed'])\n",
    "pprint(weather_json['sys']['country'])\n",
    "pprint(weather_json['name'])\n",
    "pprint(weather_json['dt'])"
   ]
  },
  {
   "cell_type": "code",
   "execution_count": 57,
   "metadata": {
    "scrolled": true
   },
   "outputs": [
    {
     "data": {
      "text/html": [
       "<div>\n",
       "<style scoped>\n",
       "    .dataframe tbody tr th:only-of-type {\n",
       "        vertical-align: middle;\n",
       "    }\n",
       "\n",
       "    .dataframe tbody tr th {\n",
       "        vertical-align: top;\n",
       "    }\n",
       "\n",
       "    .dataframe thead th {\n",
       "        text-align: right;\n",
       "    }\n",
       "</style>\n",
       "<table border=\"1\" class=\"dataframe\">\n",
       "  <thead>\n",
       "    <tr style=\"text-align: right;\">\n",
       "      <th></th>\n",
       "      <th>City</th>\n",
       "      <th>Lat</th>\n",
       "      <th>Lon</th>\n",
       "      <th>Max Temp</th>\n",
       "      <th>Humidity</th>\n",
       "      <th>Cloudiness</th>\n",
       "      <th>Windspeed</th>\n",
       "      <th>Country</th>\n",
       "      <th>Date</th>\n",
       "    </tr>\n",
       "  </thead>\n",
       "  <tbody>\n",
       "    <tr>\n",
       "      <th>0</th>\n",
       "      <td>caravelas</td>\n",
       "      <td></td>\n",
       "      <td></td>\n",
       "      <td></td>\n",
       "      <td></td>\n",
       "      <td></td>\n",
       "      <td></td>\n",
       "      <td></td>\n",
       "      <td></td>\n",
       "    </tr>\n",
       "    <tr>\n",
       "      <th>1</th>\n",
       "      <td>albany</td>\n",
       "      <td></td>\n",
       "      <td></td>\n",
       "      <td></td>\n",
       "      <td></td>\n",
       "      <td></td>\n",
       "      <td></td>\n",
       "      <td></td>\n",
       "      <td></td>\n",
       "    </tr>\n",
       "    <tr>\n",
       "      <th>2</th>\n",
       "      <td>illoqqortoormiut</td>\n",
       "      <td></td>\n",
       "      <td></td>\n",
       "      <td></td>\n",
       "      <td></td>\n",
       "      <td></td>\n",
       "      <td></td>\n",
       "      <td></td>\n",
       "      <td></td>\n",
       "    </tr>\n",
       "    <tr>\n",
       "      <th>3</th>\n",
       "      <td>punta arenas</td>\n",
       "      <td></td>\n",
       "      <td></td>\n",
       "      <td></td>\n",
       "      <td></td>\n",
       "      <td></td>\n",
       "      <td></td>\n",
       "      <td></td>\n",
       "      <td></td>\n",
       "    </tr>\n",
       "    <tr>\n",
       "      <th>4</th>\n",
       "      <td>chokurdakh</td>\n",
       "      <td></td>\n",
       "      <td></td>\n",
       "      <td></td>\n",
       "      <td></td>\n",
       "      <td></td>\n",
       "      <td></td>\n",
       "      <td></td>\n",
       "      <td></td>\n",
       "    </tr>\n",
       "    <tr>\n",
       "      <th>5</th>\n",
       "      <td>tuatapere</td>\n",
       "      <td></td>\n",
       "      <td></td>\n",
       "      <td></td>\n",
       "      <td></td>\n",
       "      <td></td>\n",
       "      <td></td>\n",
       "      <td></td>\n",
       "      <td></td>\n",
       "    </tr>\n",
       "    <tr>\n",
       "      <th>6</th>\n",
       "      <td>turukhansk</td>\n",
       "      <td></td>\n",
       "      <td></td>\n",
       "      <td></td>\n",
       "      <td></td>\n",
       "      <td></td>\n",
       "      <td></td>\n",
       "      <td></td>\n",
       "      <td></td>\n",
       "    </tr>\n",
       "    <tr>\n",
       "      <th>7</th>\n",
       "      <td>kapaa</td>\n",
       "      <td></td>\n",
       "      <td></td>\n",
       "      <td></td>\n",
       "      <td></td>\n",
       "      <td></td>\n",
       "      <td></td>\n",
       "      <td></td>\n",
       "      <td></td>\n",
       "    </tr>\n",
       "    <tr>\n",
       "      <th>8</th>\n",
       "      <td>bay roberts</td>\n",
       "      <td></td>\n",
       "      <td></td>\n",
       "      <td></td>\n",
       "      <td></td>\n",
       "      <td></td>\n",
       "      <td></td>\n",
       "      <td></td>\n",
       "      <td></td>\n",
       "    </tr>\n",
       "    <tr>\n",
       "      <th>9</th>\n",
       "      <td>nanortalik</td>\n",
       "      <td></td>\n",
       "      <td></td>\n",
       "      <td></td>\n",
       "      <td></td>\n",
       "      <td></td>\n",
       "      <td></td>\n",
       "      <td></td>\n",
       "      <td></td>\n",
       "    </tr>\n",
       "  </tbody>\n",
       "</table>\n",
       "</div>"
      ],
      "text/plain": [
       "               City Lat Lon Max Temp Humidity Cloudiness Windspeed Country  \\\n",
       "0         caravelas                                                          \n",
       "1            albany                                                          \n",
       "2  illoqqortoormiut                                                          \n",
       "3      punta arenas                                                          \n",
       "4        chokurdakh                                                          \n",
       "5         tuatapere                                                          \n",
       "6        turukhansk                                                          \n",
       "7             kapaa                                                          \n",
       "8       bay roberts                                                          \n",
       "9        nanortalik                                                          \n",
       "\n",
       "  Date  \n",
       "0       \n",
       "1       \n",
       "2       \n",
       "3       \n",
       "4       \n",
       "5       \n",
       "6       \n",
       "7       \n",
       "8       \n",
       "9       "
      ]
     },
     "execution_count": 57,
     "metadata": {},
     "output_type": "execute_result"
    }
   ],
   "source": [
    "# Create a DataFrame for the cities we collected from citipy\n",
    "\n",
    "cities_pd = pd.DataFrame(cities, columns=['City'])\n",
    "cities_pd[\"Lat\"] = \"\"\n",
    "cities_pd[\"Lon\"] = \"\"\n",
    "cities_pd[\"Max Temp\"] = \"\"\n",
    "cities_pd[\"Humidity\"] = \"\"\n",
    "cities_pd[\"Cloudiness\"] = \"\"\n",
    "cities_pd[\"Windspeed\"] = \"\"\n",
    "cities_pd[\"Country\"] = \"\"\n",
    "cities_pd[\"Date\"] = \"\"\n",
    "cities_pd.head(10)"
   ]
  },
  {
   "cell_type": "code",
   "execution_count": 62,
   "metadata": {},
   "outputs": [
    {
     "data": {
      "text/html": [
       "<div>\n",
       "<style scoped>\n",
       "    .dataframe tbody tr th:only-of-type {\n",
       "        vertical-align: middle;\n",
       "    }\n",
       "\n",
       "    .dataframe tbody tr th {\n",
       "        vertical-align: top;\n",
       "    }\n",
       "\n",
       "    .dataframe thead th {\n",
       "        text-align: right;\n",
       "    }\n",
       "</style>\n",
       "<table border=\"1\" class=\"dataframe\">\n",
       "  <thead>\n",
       "    <tr style=\"text-align: right;\">\n",
       "      <th></th>\n",
       "      <th>City</th>\n",
       "      <th>Lat</th>\n",
       "      <th>Lon</th>\n",
       "      <th>Max Temp</th>\n",
       "      <th>Humidity</th>\n",
       "      <th>Cloudiness</th>\n",
       "      <th>Windspeed</th>\n",
       "      <th>Country</th>\n",
       "      <th>Date</th>\n",
       "    </tr>\n",
       "  </thead>\n",
       "  <tbody>\n",
       "    <tr>\n",
       "      <th>0</th>\n",
       "      <td>caravelas</td>\n",
       "      <td>-17.71</td>\n",
       "      <td>-39.25</td>\n",
       "      <td>83.05</td>\n",
       "      <td>61</td>\n",
       "      <td>32</td>\n",
       "      <td>12.75</td>\n",
       "      <td>BR</td>\n",
       "      <td>1604076263</td>\n",
       "    </tr>\n",
       "    <tr>\n",
       "      <th>1</th>\n",
       "      <td>albany</td>\n",
       "      <td>42.6</td>\n",
       "      <td>-73.97</td>\n",
       "      <td>34</td>\n",
       "      <td>88</td>\n",
       "      <td>100</td>\n",
       "      <td>6.64</td>\n",
       "      <td>US</td>\n",
       "      <td>1604076072</td>\n",
       "    </tr>\n",
       "    <tr>\n",
       "      <th>2</th>\n",
       "      <td>illoqqortoormiut</td>\n",
       "      <td></td>\n",
       "      <td></td>\n",
       "      <td></td>\n",
       "      <td></td>\n",
       "      <td></td>\n",
       "      <td></td>\n",
       "      <td></td>\n",
       "      <td></td>\n",
       "    </tr>\n",
       "    <tr>\n",
       "      <th>3</th>\n",
       "      <td>punta arenas</td>\n",
       "      <td>-53.15</td>\n",
       "      <td>-70.92</td>\n",
       "      <td>53.6</td>\n",
       "      <td>66</td>\n",
       "      <td>75</td>\n",
       "      <td>26.4</td>\n",
       "      <td>CL</td>\n",
       "      <td>1604076263</td>\n",
       "    </tr>\n",
       "    <tr>\n",
       "      <th>4</th>\n",
       "      <td>chokurdakh</td>\n",
       "      <td>70.63</td>\n",
       "      <td>147.92</td>\n",
       "      <td>4.26</td>\n",
       "      <td>94</td>\n",
       "      <td>100</td>\n",
       "      <td>5.84</td>\n",
       "      <td>RU</td>\n",
       "      <td>1604076041</td>\n",
       "    </tr>\n",
       "    <tr>\n",
       "      <th>5</th>\n",
       "      <td>tuatapere</td>\n",
       "      <td>-46.13</td>\n",
       "      <td>167.68</td>\n",
       "      <td>55.99</td>\n",
       "      <td>97</td>\n",
       "      <td>100</td>\n",
       "      <td>1.99</td>\n",
       "      <td>NZ</td>\n",
       "      <td>1604076264</td>\n",
       "    </tr>\n",
       "    <tr>\n",
       "      <th>6</th>\n",
       "      <td>turukhansk</td>\n",
       "      <td>65.82</td>\n",
       "      <td>87.98</td>\n",
       "      <td>2.23</td>\n",
       "      <td>90</td>\n",
       "      <td>32</td>\n",
       "      <td>7.74</td>\n",
       "      <td>RU</td>\n",
       "      <td>1604076264</td>\n",
       "    </tr>\n",
       "    <tr>\n",
       "      <th>7</th>\n",
       "      <td>kapaa</td>\n",
       "      <td>22.08</td>\n",
       "      <td>-159.32</td>\n",
       "      <td>66.2</td>\n",
       "      <td>88</td>\n",
       "      <td>1</td>\n",
       "      <td>8.05</td>\n",
       "      <td>US</td>\n",
       "      <td>1604076264</td>\n",
       "    </tr>\n",
       "    <tr>\n",
       "      <th>8</th>\n",
       "      <td>bay roberts</td>\n",
       "      <td>47.6</td>\n",
       "      <td>-53.26</td>\n",
       "      <td>37</td>\n",
       "      <td>53</td>\n",
       "      <td>55</td>\n",
       "      <td>10</td>\n",
       "      <td>CA</td>\n",
       "      <td>1604076265</td>\n",
       "    </tr>\n",
       "    <tr>\n",
       "      <th>9</th>\n",
       "      <td>nanortalik</td>\n",
       "      <td>60.14</td>\n",
       "      <td>-45.24</td>\n",
       "      <td>29.86</td>\n",
       "      <td>92</td>\n",
       "      <td>99</td>\n",
       "      <td>4.59</td>\n",
       "      <td>GL</td>\n",
       "      <td>1604076265</td>\n",
       "    </tr>\n",
       "  </tbody>\n",
       "</table>\n",
       "</div>"
      ],
      "text/plain": [
       "               City    Lat     Lon Max Temp Humidity Cloudiness Windspeed  \\\n",
       "0         caravelas -17.71  -39.25    83.05       61         32     12.75   \n",
       "1            albany   42.6  -73.97       34       88        100      6.64   \n",
       "2  illoqqortoormiut                                                         \n",
       "3      punta arenas -53.15  -70.92     53.6       66         75      26.4   \n",
       "4        chokurdakh  70.63  147.92     4.26       94        100      5.84   \n",
       "5         tuatapere -46.13  167.68    55.99       97        100      1.99   \n",
       "6        turukhansk  65.82   87.98     2.23       90         32      7.74   \n",
       "7             kapaa  22.08 -159.32     66.2       88          1      8.05   \n",
       "8       bay roberts   47.6  -53.26       37       53         55        10   \n",
       "9        nanortalik  60.14  -45.24    29.86       92         99      4.59   \n",
       "\n",
       "  Country        Date  \n",
       "0      BR  1604076263  \n",
       "1      US  1604076072  \n",
       "2                      \n",
       "3      CL  1604076263  \n",
       "4      RU  1604076041  \n",
       "5      NZ  1604076264  \n",
       "6      RU  1604076264  \n",
       "7      US  1604076264  \n",
       "8      CA  1604076265  \n",
       "9      GL  1604076265  "
      ]
     },
     "execution_count": 62,
     "metadata": {},
     "output_type": "execute_result"
    }
   ],
   "source": [
    "#URL for GET requests to retrieve weather data - to test one city and see what kind of data we can retrieve\n",
    "\n",
    "cities\n",
    "url = \"http://api.openweathermap.org/data/2.5/weather?\"\n",
    "units = \"imperial\"\n",
    "\n",
    "mapping = { # key is the df column name, the value is going to be the key(s) to value in JSON\n",
    "    'Lat': ['coord', 'lat'],\n",
    "    'Lon': ['coord', 'lon'], \n",
    "    'Max Temp': ['main', 'temp_max'], \n",
    "    'Humidity': ['main', 'humidity'],\n",
    "    'Cloudiness': ['clouds', 'all'],\n",
    "    'Windspeed': ['wind', 'speed'],\n",
    "    'Country': ['sys', 'country'], \n",
    "    'Date': ['dt']\n",
    "}\n",
    "\n",
    "# created a for loop using the function .iterrows() to go over every row of the dataframe created and filling in the values from the API call\n",
    "for index, row in cities_pd.iterrows():\n",
    "    city_name=row['City']\n",
    "    # the dictionary params is built to hold into one valiable all the url query \n",
    "    params={\n",
    "        'appid': weather_api_key,\n",
    "        'units': units, \n",
    "        'q': city_name\n",
    "    }\n",
    "    # Build query URL\n",
    "    # query_url = (url + \"appid=\" + weather_api_key + \"&units=\" + units +\"&q=\" +city_name)\n",
    "    # response=requests.get(query_url)\n",
    "    \n",
    "    # requests.get(url, params=params) is a cleaner way to build a url query\n",
    "    response=requests.get(url, params=params)\n",
    "    data=response.json()\n",
    "   \n",
    "    # pprint(data),  iterating over a dictionary using the function .items()\n",
    "    for key_df, key_json in mapping.items(): \n",
    "        try: \n",
    "            data_value=data\n",
    "            for each_key_json in key_json: \n",
    "                data_value=data_value[each_key_json]\n",
    "        except: \n",
    "            data_value=''\n",
    "        row[key_df]=data_value\n",
    "    \n",
    "cities_pd.head(10)"
   ]
  },
  {
   "cell_type": "code",
   "execution_count": 63,
   "metadata": {},
   "outputs": [],
   "source": [
    "cities_pd.to_csv(\"../output_data/cities_pd.csv\", index=False, header=True)"
   ]
  },
  {
   "cell_type": "markdown",
   "metadata": {},
   "source": [
    "# Convert Raw Data to DataFrame\n",
    "* Export the city data into a .csv.\n",
    "* Display the DataFrame"
   ]
  },
  {
   "cell_type": "code",
   "execution_count": 4,
   "metadata": {},
   "outputs": [
    {
     "data": {
      "text/html": [
       "<div>\n",
       "<style scoped>\n",
       "    .dataframe tbody tr th:only-of-type {\n",
       "        vertical-align: middle;\n",
       "    }\n",
       "\n",
       "    .dataframe tbody tr th {\n",
       "        vertical-align: top;\n",
       "    }\n",
       "\n",
       "    .dataframe thead th {\n",
       "        text-align: right;\n",
       "    }\n",
       "</style>\n",
       "<table border=\"1\" class=\"dataframe\">\n",
       "  <thead>\n",
       "    <tr style=\"text-align: right;\">\n",
       "      <th></th>\n",
       "      <th>City</th>\n",
       "      <th>Lat</th>\n",
       "      <th>Lon</th>\n",
       "      <th>Max Temp</th>\n",
       "      <th>Humidity</th>\n",
       "      <th>Cloudiness</th>\n",
       "      <th>Windspeed</th>\n",
       "      <th>Country</th>\n",
       "      <th>Date</th>\n",
       "    </tr>\n",
       "  </thead>\n",
       "  <tbody>\n",
       "    <tr>\n",
       "      <th>0</th>\n",
       "      <td>caravelas</td>\n",
       "      <td>-17.71</td>\n",
       "      <td>-39.25</td>\n",
       "      <td>83.05</td>\n",
       "      <td>61.0</td>\n",
       "      <td>32.0</td>\n",
       "      <td>12.75</td>\n",
       "      <td>BR</td>\n",
       "      <td>1.604076e+09</td>\n",
       "    </tr>\n",
       "    <tr>\n",
       "      <th>1</th>\n",
       "      <td>albany</td>\n",
       "      <td>42.60</td>\n",
       "      <td>-73.97</td>\n",
       "      <td>34.00</td>\n",
       "      <td>88.0</td>\n",
       "      <td>100.0</td>\n",
       "      <td>6.64</td>\n",
       "      <td>US</td>\n",
       "      <td>1.604076e+09</td>\n",
       "    </tr>\n",
       "    <tr>\n",
       "      <th>2</th>\n",
       "      <td>illoqqortoormiut</td>\n",
       "      <td>NaN</td>\n",
       "      <td>NaN</td>\n",
       "      <td>NaN</td>\n",
       "      <td>NaN</td>\n",
       "      <td>NaN</td>\n",
       "      <td>NaN</td>\n",
       "      <td>NaN</td>\n",
       "      <td>NaN</td>\n",
       "    </tr>\n",
       "    <tr>\n",
       "      <th>3</th>\n",
       "      <td>punta arenas</td>\n",
       "      <td>-53.15</td>\n",
       "      <td>-70.92</td>\n",
       "      <td>53.60</td>\n",
       "      <td>66.0</td>\n",
       "      <td>75.0</td>\n",
       "      <td>26.40</td>\n",
       "      <td>CL</td>\n",
       "      <td>1.604076e+09</td>\n",
       "    </tr>\n",
       "    <tr>\n",
       "      <th>4</th>\n",
       "      <td>chokurdakh</td>\n",
       "      <td>70.63</td>\n",
       "      <td>147.92</td>\n",
       "      <td>4.26</td>\n",
       "      <td>94.0</td>\n",
       "      <td>100.0</td>\n",
       "      <td>5.84</td>\n",
       "      <td>RU</td>\n",
       "      <td>1.604076e+09</td>\n",
       "    </tr>\n",
       "  </tbody>\n",
       "</table>\n",
       "</div>"
      ],
      "text/plain": [
       "               City    Lat     Lon  Max Temp  Humidity  Cloudiness  Windspeed  \\\n",
       "0         caravelas -17.71  -39.25     83.05      61.0        32.0      12.75   \n",
       "1            albany  42.60  -73.97     34.00      88.0       100.0       6.64   \n",
       "2  illoqqortoormiut    NaN     NaN       NaN       NaN         NaN        NaN   \n",
       "3      punta arenas -53.15  -70.92     53.60      66.0        75.0      26.40   \n",
       "4        chokurdakh  70.63  147.92      4.26      94.0       100.0       5.84   \n",
       "\n",
       "  Country          Date  \n",
       "0      BR  1.604076e+09  \n",
       "1      US  1.604076e+09  \n",
       "2     NaN           NaN  \n",
       "3      CL  1.604076e+09  \n",
       "4      RU  1.604076e+09  "
      ]
     },
     "execution_count": 4,
     "metadata": {},
     "output_type": "execute_result"
    }
   ],
   "source": [
    "cities_pd = \"../output_data/cities_pd.csv\"\n",
    "\n",
    "cities_pd = pd.read_csv(cities_pd, encoding=\"ISO-8859-1\")\n",
    "\n",
    "cities_pd.head()"
   ]
  },
  {
   "cell_type": "code",
   "execution_count": 5,
   "metadata": {},
   "outputs": [
    {
     "data": {
      "text/html": [
       "<div>\n",
       "<style scoped>\n",
       "    .dataframe tbody tr th:only-of-type {\n",
       "        vertical-align: middle;\n",
       "    }\n",
       "\n",
       "    .dataframe tbody tr th {\n",
       "        vertical-align: top;\n",
       "    }\n",
       "\n",
       "    .dataframe thead th {\n",
       "        text-align: right;\n",
       "    }\n",
       "</style>\n",
       "<table border=\"1\" class=\"dataframe\">\n",
       "  <thead>\n",
       "    <tr style=\"text-align: right;\">\n",
       "      <th></th>\n",
       "      <th>City</th>\n",
       "      <th>Lat</th>\n",
       "      <th>Lon</th>\n",
       "      <th>Max Temp</th>\n",
       "      <th>Humidity</th>\n",
       "      <th>Cloudiness</th>\n",
       "      <th>Windspeed</th>\n",
       "      <th>Country</th>\n",
       "      <th>Date</th>\n",
       "    </tr>\n",
       "  </thead>\n",
       "  <tbody>\n",
       "    <tr>\n",
       "      <th>0</th>\n",
       "      <td>caravelas</td>\n",
       "      <td>-17.71</td>\n",
       "      <td>-39.25</td>\n",
       "      <td>83.05</td>\n",
       "      <td>61.0</td>\n",
       "      <td>32.0</td>\n",
       "      <td>12.75</td>\n",
       "      <td>BR</td>\n",
       "      <td>1.604076e+09</td>\n",
       "    </tr>\n",
       "    <tr>\n",
       "      <th>1</th>\n",
       "      <td>albany</td>\n",
       "      <td>42.60</td>\n",
       "      <td>-73.97</td>\n",
       "      <td>34.00</td>\n",
       "      <td>88.0</td>\n",
       "      <td>100.0</td>\n",
       "      <td>6.64</td>\n",
       "      <td>US</td>\n",
       "      <td>1.604076e+09</td>\n",
       "    </tr>\n",
       "    <tr>\n",
       "      <th>3</th>\n",
       "      <td>punta arenas</td>\n",
       "      <td>-53.15</td>\n",
       "      <td>-70.92</td>\n",
       "      <td>53.60</td>\n",
       "      <td>66.0</td>\n",
       "      <td>75.0</td>\n",
       "      <td>26.40</td>\n",
       "      <td>CL</td>\n",
       "      <td>1.604076e+09</td>\n",
       "    </tr>\n",
       "    <tr>\n",
       "      <th>4</th>\n",
       "      <td>chokurdakh</td>\n",
       "      <td>70.63</td>\n",
       "      <td>147.92</td>\n",
       "      <td>4.26</td>\n",
       "      <td>94.0</td>\n",
       "      <td>100.0</td>\n",
       "      <td>5.84</td>\n",
       "      <td>RU</td>\n",
       "      <td>1.604076e+09</td>\n",
       "    </tr>\n",
       "    <tr>\n",
       "      <th>5</th>\n",
       "      <td>tuatapere</td>\n",
       "      <td>-46.13</td>\n",
       "      <td>167.68</td>\n",
       "      <td>55.99</td>\n",
       "      <td>97.0</td>\n",
       "      <td>100.0</td>\n",
       "      <td>1.99</td>\n",
       "      <td>NZ</td>\n",
       "      <td>1.604076e+09</td>\n",
       "    </tr>\n",
       "  </tbody>\n",
       "</table>\n",
       "</div>"
      ],
      "text/plain": [
       "           City    Lat     Lon  Max Temp  Humidity  Cloudiness  Windspeed  \\\n",
       "0     caravelas -17.71  -39.25     83.05      61.0        32.0      12.75   \n",
       "1        albany  42.60  -73.97     34.00      88.0       100.0       6.64   \n",
       "3  punta arenas -53.15  -70.92     53.60      66.0        75.0      26.40   \n",
       "4    chokurdakh  70.63  147.92      4.26      94.0       100.0       5.84   \n",
       "5     tuatapere -46.13  167.68     55.99      97.0       100.0       1.99   \n",
       "\n",
       "  Country          Date  \n",
       "0      BR  1.604076e+09  \n",
       "1      US  1.604076e+09  \n",
       "3      CL  1.604076e+09  \n",
       "4      RU  1.604076e+09  \n",
       "5      NZ  1.604076e+09  "
      ]
     },
     "execution_count": 5,
     "metadata": {},
     "output_type": "execute_result"
    }
   ],
   "source": [
    "cities_pd = cities_pd.dropna()\n",
    "cities_pd.head()"
   ]
  },
  {
   "cell_type": "code",
   "execution_count": 6,
   "metadata": {},
   "outputs": [
    {
     "data": {
      "text/html": [
       "<div>\n",
       "<style scoped>\n",
       "    .dataframe tbody tr th:only-of-type {\n",
       "        vertical-align: middle;\n",
       "    }\n",
       "\n",
       "    .dataframe tbody tr th {\n",
       "        vertical-align: top;\n",
       "    }\n",
       "\n",
       "    .dataframe thead th {\n",
       "        text-align: right;\n",
       "    }\n",
       "</style>\n",
       "<table border=\"1\" class=\"dataframe\">\n",
       "  <thead>\n",
       "    <tr style=\"text-align: right;\">\n",
       "      <th></th>\n",
       "      <th>City</th>\n",
       "      <th>Lat</th>\n",
       "      <th>Lon</th>\n",
       "      <th>Max Temp</th>\n",
       "      <th>Humidity</th>\n",
       "      <th>Cloudiness</th>\n",
       "      <th>Windspeed</th>\n",
       "      <th>Country</th>\n",
       "      <th>Date</th>\n",
       "    </tr>\n",
       "  </thead>\n",
       "  <tbody>\n",
       "    <tr>\n",
       "      <th>382</th>\n",
       "      <td>launceston</td>\n",
       "      <td>-41.45</td>\n",
       "      <td>147.17</td>\n",
       "      <td>53.01</td>\n",
       "      <td>100.0</td>\n",
       "      <td>90.0</td>\n",
       "      <td>0.94</td>\n",
       "      <td>AU</td>\n",
       "      <td>1.604076e+09</td>\n",
       "    </tr>\n",
       "    <tr>\n",
       "      <th>377</th>\n",
       "      <td>tilichiki</td>\n",
       "      <td>60.47</td>\n",
       "      <td>166.10</td>\n",
       "      <td>27.10</td>\n",
       "      <td>100.0</td>\n",
       "      <td>84.0</td>\n",
       "      <td>2.19</td>\n",
       "      <td>RU</td>\n",
       "      <td>1.604076e+09</td>\n",
       "    </tr>\n",
       "    <tr>\n",
       "      <th>292</th>\n",
       "      <td>long xuyen</td>\n",
       "      <td>10.38</td>\n",
       "      <td>105.42</td>\n",
       "      <td>78.80</td>\n",
       "      <td>100.0</td>\n",
       "      <td>20.0</td>\n",
       "      <td>3.36</td>\n",
       "      <td>VN</td>\n",
       "      <td>1.604076e+09</td>\n",
       "    </tr>\n",
       "    <tr>\n",
       "      <th>245</th>\n",
       "      <td>gat</td>\n",
       "      <td>31.61</td>\n",
       "      <td>34.76</td>\n",
       "      <td>78.01</td>\n",
       "      <td>100.0</td>\n",
       "      <td>11.0</td>\n",
       "      <td>10.31</td>\n",
       "      <td>IL</td>\n",
       "      <td>1.604076e+09</td>\n",
       "    </tr>\n",
       "    <tr>\n",
       "      <th>478</th>\n",
       "      <td>peace river</td>\n",
       "      <td>56.25</td>\n",
       "      <td>-117.29</td>\n",
       "      <td>28.00</td>\n",
       "      <td>100.0</td>\n",
       "      <td>100.0</td>\n",
       "      <td>1.99</td>\n",
       "      <td>CA</td>\n",
       "      <td>1.604076e+09</td>\n",
       "    </tr>\n",
       "    <tr>\n",
       "      <th>483</th>\n",
       "      <td>petropavlovsk-kamchatskiy</td>\n",
       "      <td>53.05</td>\n",
       "      <td>158.65</td>\n",
       "      <td>35.60</td>\n",
       "      <td>100.0</td>\n",
       "      <td>75.0</td>\n",
       "      <td>4.47</td>\n",
       "      <td>RU</td>\n",
       "      <td>1.604076e+09</td>\n",
       "    </tr>\n",
       "    <tr>\n",
       "      <th>593</th>\n",
       "      <td>eureka</td>\n",
       "      <td>40.80</td>\n",
       "      <td>-124.16</td>\n",
       "      <td>46.40</td>\n",
       "      <td>100.0</td>\n",
       "      <td>90.0</td>\n",
       "      <td>4.41</td>\n",
       "      <td>US</td>\n",
       "      <td>1.604076e+09</td>\n",
       "    </tr>\n",
       "    <tr>\n",
       "      <th>438</th>\n",
       "      <td>visby</td>\n",
       "      <td>57.64</td>\n",
       "      <td>18.30</td>\n",
       "      <td>50.00</td>\n",
       "      <td>100.0</td>\n",
       "      <td>75.0</td>\n",
       "      <td>5.82</td>\n",
       "      <td>SE</td>\n",
       "      <td>1.604076e+09</td>\n",
       "    </tr>\n",
       "    <tr>\n",
       "      <th>271</th>\n",
       "      <td>maunabo</td>\n",
       "      <td>18.01</td>\n",
       "      <td>-65.90</td>\n",
       "      <td>87.01</td>\n",
       "      <td>100.0</td>\n",
       "      <td>96.0</td>\n",
       "      <td>5.99</td>\n",
       "      <td>PR</td>\n",
       "      <td>1.604076e+09</td>\n",
       "    </tr>\n",
       "    <tr>\n",
       "      <th>558</th>\n",
       "      <td>listvyanka</td>\n",
       "      <td>51.85</td>\n",
       "      <td>104.87</td>\n",
       "      <td>21.20</td>\n",
       "      <td>100.0</td>\n",
       "      <td>77.0</td>\n",
       "      <td>2.24</td>\n",
       "      <td>RU</td>\n",
       "      <td>1.604076e+09</td>\n",
       "    </tr>\n",
       "    <tr>\n",
       "      <th>564</th>\n",
       "      <td>vaxjo</td>\n",
       "      <td>56.88</td>\n",
       "      <td>14.81</td>\n",
       "      <td>44.60</td>\n",
       "      <td>100.0</td>\n",
       "      <td>76.0</td>\n",
       "      <td>1.12</td>\n",
       "      <td>SE</td>\n",
       "      <td>1.604076e+09</td>\n",
       "    </tr>\n",
       "    <tr>\n",
       "      <th>205</th>\n",
       "      <td>pacific grove</td>\n",
       "      <td>36.62</td>\n",
       "      <td>-121.92</td>\n",
       "      <td>48.20</td>\n",
       "      <td>100.0</td>\n",
       "      <td>90.0</td>\n",
       "      <td>4.79</td>\n",
       "      <td>US</td>\n",
       "      <td>1.604076e+09</td>\n",
       "    </tr>\n",
       "    <tr>\n",
       "      <th>325</th>\n",
       "      <td>bogotol</td>\n",
       "      <td>56.21</td>\n",
       "      <td>89.53</td>\n",
       "      <td>26.60</td>\n",
       "      <td>99.0</td>\n",
       "      <td>100.0</td>\n",
       "      <td>6.53</td>\n",
       "      <td>RU</td>\n",
       "      <td>1.604076e+09</td>\n",
       "    </tr>\n",
       "    <tr>\n",
       "      <th>624</th>\n",
       "      <td>leninsk-kuznetskiy</td>\n",
       "      <td>54.66</td>\n",
       "      <td>86.17</td>\n",
       "      <td>32.00</td>\n",
       "      <td>99.0</td>\n",
       "      <td>90.0</td>\n",
       "      <td>13.42</td>\n",
       "      <td>RU</td>\n",
       "      <td>1.604076e+09</td>\n",
       "    </tr>\n",
       "    <tr>\n",
       "      <th>618</th>\n",
       "      <td>kargasok</td>\n",
       "      <td>59.06</td>\n",
       "      <td>80.86</td>\n",
       "      <td>27.30</td>\n",
       "      <td>99.0</td>\n",
       "      <td>100.0</td>\n",
       "      <td>3.06</td>\n",
       "      <td>RU</td>\n",
       "      <td>1.604076e+09</td>\n",
       "    </tr>\n",
       "  </tbody>\n",
       "</table>\n",
       "</div>"
      ],
      "text/plain": [
       "                          City    Lat     Lon  Max Temp  Humidity  Cloudiness  \\\n",
       "382                 launceston -41.45  147.17     53.01     100.0        90.0   \n",
       "377                  tilichiki  60.47  166.10     27.10     100.0        84.0   \n",
       "292                 long xuyen  10.38  105.42     78.80     100.0        20.0   \n",
       "245                        gat  31.61   34.76     78.01     100.0        11.0   \n",
       "478                peace river  56.25 -117.29     28.00     100.0       100.0   \n",
       "483  petropavlovsk-kamchatskiy  53.05  158.65     35.60     100.0        75.0   \n",
       "593                     eureka  40.80 -124.16     46.40     100.0        90.0   \n",
       "438                      visby  57.64   18.30     50.00     100.0        75.0   \n",
       "271                    maunabo  18.01  -65.90     87.01     100.0        96.0   \n",
       "558                 listvyanka  51.85  104.87     21.20     100.0        77.0   \n",
       "564                      vaxjo  56.88   14.81     44.60     100.0        76.0   \n",
       "205              pacific grove  36.62 -121.92     48.20     100.0        90.0   \n",
       "325                    bogotol  56.21   89.53     26.60      99.0       100.0   \n",
       "624         leninsk-kuznetskiy  54.66   86.17     32.00      99.0        90.0   \n",
       "618                   kargasok  59.06   80.86     27.30      99.0       100.0   \n",
       "\n",
       "     Windspeed Country          Date  \n",
       "382       0.94      AU  1.604076e+09  \n",
       "377       2.19      RU  1.604076e+09  \n",
       "292       3.36      VN  1.604076e+09  \n",
       "245      10.31      IL  1.604076e+09  \n",
       "478       1.99      CA  1.604076e+09  \n",
       "483       4.47      RU  1.604076e+09  \n",
       "593       4.41      US  1.604076e+09  \n",
       "438       5.82      SE  1.604076e+09  \n",
       "271       5.99      PR  1.604076e+09  \n",
       "558       2.24      RU  1.604076e+09  \n",
       "564       1.12      SE  1.604076e+09  \n",
       "205       4.79      US  1.604076e+09  \n",
       "325       6.53      RU  1.604076e+09  \n",
       "624      13.42      RU  1.604076e+09  \n",
       "618       3.06      RU  1.604076e+09  "
      ]
     },
     "execution_count": 6,
     "metadata": {},
     "output_type": "execute_result"
    }
   ],
   "source": [
    "cities_pd = cities_pd.sort_values(\"Humidity\",ascending = False)\n",
    "cities_pd.head(15)"
   ]
  },
  {
   "cell_type": "code",
   "execution_count": 7,
   "metadata": {},
   "outputs": [],
   "source": [
    "cities_pd_clean = cities_pd.drop(cities_pd[cities_pd[\"Humidity\"]==100].index, inplace = True)\n"
   ]
  },
  {
   "cell_type": "markdown",
   "metadata": {},
   "source": [
    "## Inspect the data and remove the cities where the humidity > 100%.\n",
    "----\n",
    "Skip this step if there are no cities that have humidity > 100%. "
   ]
  },
  {
   "cell_type": "code",
   "execution_count": 8,
   "metadata": {},
   "outputs": [],
   "source": [
    "#  Get the indices of cities that have humidity over 100%.\n"
   ]
  },
  {
   "cell_type": "code",
   "execution_count": 9,
   "metadata": {},
   "outputs": [],
   "source": [
    "# Make a new DataFrame equal to the city data to drop all humidity outliers by index.\n",
    "# Passing \"inplace=False\" will make a copy of the city_data DataFrame, which we call \"clean_city_data\".\n"
   ]
  },
  {
   "cell_type": "code",
   "execution_count": 10,
   "metadata": {},
   "outputs": [
    {
     "data": {
      "text/html": [
       "<div>\n",
       "<style scoped>\n",
       "    .dataframe tbody tr th:only-of-type {\n",
       "        vertical-align: middle;\n",
       "    }\n",
       "\n",
       "    .dataframe tbody tr th {\n",
       "        vertical-align: top;\n",
       "    }\n",
       "\n",
       "    .dataframe thead th {\n",
       "        text-align: right;\n",
       "    }\n",
       "</style>\n",
       "<table border=\"1\" class=\"dataframe\">\n",
       "  <thead>\n",
       "    <tr style=\"text-align: right;\">\n",
       "      <th></th>\n",
       "      <th>City</th>\n",
       "      <th>Lat</th>\n",
       "      <th>Lon</th>\n",
       "      <th>Max Temp</th>\n",
       "      <th>Humidity</th>\n",
       "      <th>Cloudiness</th>\n",
       "      <th>Windspeed</th>\n",
       "      <th>Country</th>\n",
       "      <th>Date</th>\n",
       "    </tr>\n",
       "  </thead>\n",
       "  <tbody>\n",
       "    <tr>\n",
       "      <th>325</th>\n",
       "      <td>bogotol</td>\n",
       "      <td>56.21</td>\n",
       "      <td>89.53</td>\n",
       "      <td>26.6</td>\n",
       "      <td>99.0</td>\n",
       "      <td>100.0</td>\n",
       "      <td>6.53</td>\n",
       "      <td>RU</td>\n",
       "      <td>1.604076e+09</td>\n",
       "    </tr>\n",
       "    <tr>\n",
       "      <th>624</th>\n",
       "      <td>leninsk-kuznetskiy</td>\n",
       "      <td>54.66</td>\n",
       "      <td>86.17</td>\n",
       "      <td>32.0</td>\n",
       "      <td>99.0</td>\n",
       "      <td>90.0</td>\n",
       "      <td>13.42</td>\n",
       "      <td>RU</td>\n",
       "      <td>1.604076e+09</td>\n",
       "    </tr>\n",
       "    <tr>\n",
       "      <th>618</th>\n",
       "      <td>kargasok</td>\n",
       "      <td>59.06</td>\n",
       "      <td>80.86</td>\n",
       "      <td>27.3</td>\n",
       "      <td>99.0</td>\n",
       "      <td>100.0</td>\n",
       "      <td>3.06</td>\n",
       "      <td>RU</td>\n",
       "      <td>1.604076e+09</td>\n",
       "    </tr>\n",
       "    <tr>\n",
       "      <th>401</th>\n",
       "      <td>portobelo</td>\n",
       "      <td>9.55</td>\n",
       "      <td>-79.65</td>\n",
       "      <td>86.0</td>\n",
       "      <td>99.0</td>\n",
       "      <td>9.0</td>\n",
       "      <td>4.00</td>\n",
       "      <td>PA</td>\n",
       "      <td>1.604076e+09</td>\n",
       "    </tr>\n",
       "    <tr>\n",
       "      <th>371</th>\n",
       "      <td>vostok</td>\n",
       "      <td>46.49</td>\n",
       "      <td>135.88</td>\n",
       "      <td>25.0</td>\n",
       "      <td>99.0</td>\n",
       "      <td>92.0</td>\n",
       "      <td>3.98</td>\n",
       "      <td>RU</td>\n",
       "      <td>1.604076e+09</td>\n",
       "    </tr>\n",
       "  </tbody>\n",
       "</table>\n",
       "</div>"
      ],
      "text/plain": [
       "                   City    Lat     Lon  Max Temp  Humidity  Cloudiness  \\\n",
       "325             bogotol  56.21   89.53      26.6      99.0       100.0   \n",
       "624  leninsk-kuznetskiy  54.66   86.17      32.0      99.0        90.0   \n",
       "618            kargasok  59.06   80.86      27.3      99.0       100.0   \n",
       "401           portobelo   9.55  -79.65      86.0      99.0         9.0   \n",
       "371              vostok  46.49  135.88      25.0      99.0        92.0   \n",
       "\n",
       "     Windspeed Country          Date  \n",
       "325       6.53      RU  1.604076e+09  \n",
       "624      13.42      RU  1.604076e+09  \n",
       "618       3.06      RU  1.604076e+09  \n",
       "401       4.00      PA  1.604076e+09  \n",
       "371       3.98      RU  1.604076e+09  "
      ]
     },
     "execution_count": 10,
     "metadata": {},
     "output_type": "execute_result"
    }
   ],
   "source": [
    "cities_pd_clean = cities_pd\n",
    "cities_pd_clean.head()"
   ]
  },
  {
   "cell_type": "markdown",
   "metadata": {},
   "source": [
    "## Plotting the Data\n",
    "* Use proper labeling of the plots using plot titles (including date of analysis) and axes labels.\n",
    "* Save the plotted figures as .pngs."
   ]
  },
  {
   "cell_type": "markdown",
   "metadata": {},
   "source": [
    "## Latitude vs. Temperature Plot"
   ]
  },
  {
   "cell_type": "code",
   "execution_count": 11,
   "metadata": {
    "scrolled": true
   },
   "outputs": [
    {
     "data": {
      "image/png": "[encoded data removed]",
      "text/plain": [
       "<Figure size 432x288 with 1 Axes>"
      ]
     },
     "metadata": {
      "needs_background": "light"
     },
     "output_type": "display_data"
    }
   ],
   "source": [
    "cities_pd_clean_L_T = cities_pd_clean[[\"Max Temp\", \"Lat\"]]\n",
    "# cities_pd_clean_L_T.head()\n",
    "cities_pd_clean_L_T.plot.scatter(x = \"Max Temp\" , y = \"Lat\", title = \"Temperature (F) vs. Latitude\")\n",
    "plt.xlabel(\"Max Temp (F)\")\n",
    "plt.ylabel(\"Latitude\")\n",
    "plt.savefig(\"../Images/LatvsTemp.png\")\n",
    "\n",
    "# This graph shows that cities closer to the equator have higher temperatures"
   ]
  },
  {
   "cell_type": "markdown",
   "metadata": {},
   "source": [
    "## Latitude vs. Humidity Plot"
   ]
  },
  {
   "cell_type": "code",
   "execution_count": 12,
   "metadata": {},
   "outputs": [
    {
     "data": {
      "image/png": "[encoded data removed]",
      "text/plain": [
       "<Figure size 432x288 with 1 Axes>"
      ]
     },
     "metadata": {
      "needs_background": "light"
     },
     "output_type": "display_data"
    }
   ],
   "source": [
    "cities_pd_clean_L_H = cities_pd_clean[[\"Humidity\",\"Lat\"]]\n",
    "# cities_pd_clean_L_H.head()\n",
    "cities_pd_clean_L_H.plot.scatter(x = \"Humidity\" , y = \"Lat\", title=\"Humidity (%) vs. Latitude\")\n",
    "plt.xlabel(\"Humidity (%)\")\n",
    "plt.ylabel(\"Latitude\")\n",
    "plt.savefig(\"../Images/LatvsHumidity.png\")\n",
    "\n",
    "# This graph shows that cities close to the tropics and the subtropics tend to have \n",
    "# high humity weather conditions (60-100% Humidity)"
   ]
  },
  {
   "cell_type": "markdown",
   "metadata": {},
   "source": [
    "## Latitude vs. Cloudiness Plot"
   ]
  },
  {
   "cell_type": "code",
   "execution_count": 13,
   "metadata": {},
   "outputs": [
    {
     "data": {
      "image/png": "[encoded data removed]",
      "text/plain": [
       "<Figure size 432x288 with 1 Axes>"
      ]
     },
     "metadata": {
      "needs_background": "light"
     },
     "output_type": "display_data"
    }
   ],
   "source": [
    "cities_pd_clean_L_C = cities_pd_clean[[\"Cloudiness\", \"Lat\"]]\n",
    "# cities_pd_clean_L_C.head()\n",
    "cities_pd_clean_L_C.plot.scatter(x =\"Cloudiness\", y = \"Lat\", title = \"Cloudiness (%) vs. Latitude\")\n",
    "plt.xlabel(\"Cloudiness (%)\")\n",
    "plt.ylabel(\"Latitude\")\n",
    "plt.savefig(\"../Images/LatvsCloudiness.png\")\n",
    "\n",
    "# This graph shows that cities close to the tropics and the subtropics don't show  \n",
    "# a patter on haveing more or less cloud cover depending on the latitude"
   ]
  },
  {
   "cell_type": "markdown",
   "metadata": {},
   "source": [
    "## Latitude vs. Wind Speed Plot"
   ]
  },
  {
   "cell_type": "code",
   "execution_count": 14,
   "metadata": {},
   "outputs": [
    {
     "data": {
      "image/png": "[encoded data removed]",
      "text/plain": [
       "<Figure size 432x288 with 1 Axes>"
      ]
     },
     "metadata": {
      "needs_background": "light"
     },
     "output_type": "display_data"
    }
   ],
   "source": [
    "cities_pd_clean_L_W = cities_pd_clean[[\"Windspeed\", \"Lat\"]]\n",
    "# cities_pd_clean_L_W.head()\n",
    "cities_pd_clean_L_W.plot.scatter(x =\"Windspeed\" , y = \"Lat\", title = \" Wind Speed (mph) vs. Latitude\")\n",
    "plt.xlabel(\"Wind Speed (mph)\")\n",
    "plt.ylabel(\"Latitude\")\n",
    "plt.savefig(\"../Images/LatvsWindSpeed.png\")\n",
    "\n",
    "# This graph shows that cities close to the tropics and the subtropics tend to have \n",
    "# mild wind speed conditions (0-15mph)"
   ]
  },
  {
   "cell_type": "markdown",
   "metadata": {},
   "source": [
    "## Linear Regression"
   ]
  },
  {
   "cell_type": "code",
   "execution_count": 15,
   "metadata": {},
   "outputs": [
    {
     "data": {
      "text/html": [
       "<div>\n",
       "<style scoped>\n",
       "    .dataframe tbody tr th:only-of-type {\n",
       "        vertical-align: middle;\n",
       "    }\n",
       "\n",
       "    .dataframe tbody tr th {\n",
       "        vertical-align: top;\n",
       "    }\n",
       "\n",
       "    .dataframe thead th {\n",
       "        text-align: right;\n",
       "    }\n",
       "</style>\n",
       "<table border=\"1\" class=\"dataframe\">\n",
       "  <thead>\n",
       "    <tr style=\"text-align: right;\">\n",
       "      <th></th>\n",
       "      <th>City</th>\n",
       "      <th>Lat</th>\n",
       "      <th>Lon</th>\n",
       "      <th>Max Temp</th>\n",
       "      <th>Humidity</th>\n",
       "      <th>Cloudiness</th>\n",
       "      <th>Windspeed</th>\n",
       "      <th>Country</th>\n",
       "      <th>Date</th>\n",
       "    </tr>\n",
       "  </thead>\n",
       "  <tbody>\n",
       "    <tr>\n",
       "      <th>325</th>\n",
       "      <td>bogotol</td>\n",
       "      <td>56.21</td>\n",
       "      <td>89.53</td>\n",
       "      <td>26.6</td>\n",
       "      <td>99.0</td>\n",
       "      <td>100.0</td>\n",
       "      <td>6.53</td>\n",
       "      <td>RU</td>\n",
       "      <td>1.604076e+09</td>\n",
       "    </tr>\n",
       "    <tr>\n",
       "      <th>624</th>\n",
       "      <td>leninsk-kuznetskiy</td>\n",
       "      <td>54.66</td>\n",
       "      <td>86.17</td>\n",
       "      <td>32.0</td>\n",
       "      <td>99.0</td>\n",
       "      <td>90.0</td>\n",
       "      <td>13.42</td>\n",
       "      <td>RU</td>\n",
       "      <td>1.604076e+09</td>\n",
       "    </tr>\n",
       "    <tr>\n",
       "      <th>618</th>\n",
       "      <td>kargasok</td>\n",
       "      <td>59.06</td>\n",
       "      <td>80.86</td>\n",
       "      <td>27.3</td>\n",
       "      <td>99.0</td>\n",
       "      <td>100.0</td>\n",
       "      <td>3.06</td>\n",
       "      <td>RU</td>\n",
       "      <td>1.604076e+09</td>\n",
       "    </tr>\n",
       "    <tr>\n",
       "      <th>401</th>\n",
       "      <td>portobelo</td>\n",
       "      <td>9.55</td>\n",
       "      <td>-79.65</td>\n",
       "      <td>86.0</td>\n",
       "      <td>99.0</td>\n",
       "      <td>9.0</td>\n",
       "      <td>4.00</td>\n",
       "      <td>PA</td>\n",
       "      <td>1.604076e+09</td>\n",
       "    </tr>\n",
       "    <tr>\n",
       "      <th>371</th>\n",
       "      <td>vostok</td>\n",
       "      <td>46.49</td>\n",
       "      <td>135.88</td>\n",
       "      <td>25.0</td>\n",
       "      <td>99.0</td>\n",
       "      <td>92.0</td>\n",
       "      <td>3.98</td>\n",
       "      <td>RU</td>\n",
       "      <td>1.604076e+09</td>\n",
       "    </tr>\n",
       "  </tbody>\n",
       "</table>\n",
       "</div>"
      ],
      "text/plain": [
       "                   City    Lat     Lon  Max Temp  Humidity  Cloudiness  \\\n",
       "325             bogotol  56.21   89.53      26.6      99.0       100.0   \n",
       "624  leninsk-kuznetskiy  54.66   86.17      32.0      99.0        90.0   \n",
       "618            kargasok  59.06   80.86      27.3      99.0       100.0   \n",
       "401           portobelo   9.55  -79.65      86.0      99.0         9.0   \n",
       "371              vostok  46.49  135.88      25.0      99.0        92.0   \n",
       "\n",
       "     Windspeed Country          Date  \n",
       "325       6.53      RU  1.604076e+09  \n",
       "624      13.42      RU  1.604076e+09  \n",
       "618       3.06      RU  1.604076e+09  \n",
       "401       4.00      PA  1.604076e+09  \n",
       "371       3.98      RU  1.604076e+09  "
      ]
     },
     "execution_count": 15,
     "metadata": {},
     "output_type": "execute_result"
    }
   ],
   "source": [
    "cities_pd_clean_N = cities_pd_clean.loc[cities_pd_clean[\"Lat\"]>0]\n",
    "cities_pd_clean_N.head()"
   ]
  },
  {
   "cell_type": "markdown",
   "metadata": {},
   "source": [
    "####  Northern Hemisphere - Max Temp vs. Latitude Linear Regression"
   ]
  },
  {
   "cell_type": "code",
   "execution_count": 16,
   "metadata": {
    "scrolled": true
   },
   "outputs": [
    {
     "data": {
      "image/png": "[encoded data removed]",
      "text/plain": [
       "<Figure size 432x288 with 1 Axes>"
      ]
     },
     "metadata": {
      "needs_background": "light"
     },
     "output_type": "display_data"
    }
   ],
   "source": [
    "cities_pd_clean_N.plot.scatter(x = \"Max Temp\" ,y = \"Lat\")\n",
    "\n",
    "x_values = cities_pd_clean_N['Max Temp']\n",
    "y_values = cities_pd_clean_N['Lat']\n",
    "(slope, intercept, rvalue, pvalue, stderr) = linregress(x_values, y_values)\n",
    "regress_values = x_values * slope + intercept\n",
    "line_eq = \"y = \" + str(round(slope,2)) + \"x + \" + str(round(intercept,2))\n",
    "plt.scatter(x_values,y_values)\n",
    "plt.plot(x_values,regress_values,\"r-\")\n",
    "plt.annotate(line_eq,(6,10),fontsize=15,color=\"red\")\n",
    "plt.title(\"Northern Hemisphere - Max Temp vs. Latitude Linear Regression\")\n",
    "plt.xlabel('Max Temp')\n",
    "plt.ylabel('Latitude')\n",
    "plt.savefig(\"../Images/NLat_vs_Temp.png\")\n",
    "plt.show()\n",
    "\n",
    "# the linear regression explains a high correllation between latitude and Air Temperature\n",
    "# the closer to the equator the higher the air temperature gets. "
   ]
  },
  {
   "cell_type": "markdown",
   "metadata": {},
   "source": [
    "####  Southern Hemisphere - Max Temp vs. Latitude Linear Regression"
   ]
  },
  {
   "cell_type": "code",
   "execution_count": 17,
   "metadata": {},
   "outputs": [
    {
     "data": {
      "text/html": [
       "<div>\n",
       "<style scoped>\n",
       "    .dataframe tbody tr th:only-of-type {\n",
       "        vertical-align: middle;\n",
       "    }\n",
       "\n",
       "    .dataframe tbody tr th {\n",
       "        vertical-align: top;\n",
       "    }\n",
       "\n",
       "    .dataframe thead th {\n",
       "        text-align: right;\n",
       "    }\n",
       "</style>\n",
       "<table border=\"1\" class=\"dataframe\">\n",
       "  <thead>\n",
       "    <tr style=\"text-align: right;\">\n",
       "      <th></th>\n",
       "      <th>City</th>\n",
       "      <th>Lat</th>\n",
       "      <th>Lon</th>\n",
       "      <th>Max Temp</th>\n",
       "      <th>Humidity</th>\n",
       "      <th>Cloudiness</th>\n",
       "      <th>Windspeed</th>\n",
       "      <th>Country</th>\n",
       "      <th>Date</th>\n",
       "    </tr>\n",
       "  </thead>\n",
       "  <tbody>\n",
       "    <tr>\n",
       "      <th>148</th>\n",
       "      <td>colac</td>\n",
       "      <td>-38.33</td>\n",
       "      <td>143.58</td>\n",
       "      <td>52.00</td>\n",
       "      <td>98.0</td>\n",
       "      <td>34.0</td>\n",
       "      <td>5.01</td>\n",
       "      <td>AU</td>\n",
       "      <td>1.604076e+09</td>\n",
       "    </tr>\n",
       "    <tr>\n",
       "      <th>80</th>\n",
       "      <td>mataura</td>\n",
       "      <td>-46.19</td>\n",
       "      <td>168.86</td>\n",
       "      <td>55.99</td>\n",
       "      <td>97.0</td>\n",
       "      <td>100.0</td>\n",
       "      <td>1.99</td>\n",
       "      <td>NZ</td>\n",
       "      <td>1.604076e+09</td>\n",
       "    </tr>\n",
       "    <tr>\n",
       "      <th>43</th>\n",
       "      <td>bluff</td>\n",
       "      <td>-46.60</td>\n",
       "      <td>168.33</td>\n",
       "      <td>55.99</td>\n",
       "      <td>97.0</td>\n",
       "      <td>100.0</td>\n",
       "      <td>1.99</td>\n",
       "      <td>NZ</td>\n",
       "      <td>1.604076e+09</td>\n",
       "    </tr>\n",
       "    <tr>\n",
       "      <th>132</th>\n",
       "      <td>camabatela</td>\n",
       "      <td>-8.19</td>\n",
       "      <td>15.38</td>\n",
       "      <td>67.19</td>\n",
       "      <td>97.0</td>\n",
       "      <td>95.0</td>\n",
       "      <td>2.55</td>\n",
       "      <td>AO</td>\n",
       "      <td>1.604076e+09</td>\n",
       "    </tr>\n",
       "    <tr>\n",
       "      <th>5</th>\n",
       "      <td>tuatapere</td>\n",
       "      <td>-46.13</td>\n",
       "      <td>167.68</td>\n",
       "      <td>55.99</td>\n",
       "      <td>97.0</td>\n",
       "      <td>100.0</td>\n",
       "      <td>1.99</td>\n",
       "      <td>NZ</td>\n",
       "      <td>1.604076e+09</td>\n",
       "    </tr>\n",
       "  </tbody>\n",
       "</table>\n",
       "</div>"
      ],
      "text/plain": [
       "           City    Lat     Lon  Max Temp  Humidity  Cloudiness  Windspeed  \\\n",
       "148       colac -38.33  143.58     52.00      98.0        34.0       5.01   \n",
       "80      mataura -46.19  168.86     55.99      97.0       100.0       1.99   \n",
       "43        bluff -46.60  168.33     55.99      97.0       100.0       1.99   \n",
       "132  camabatela  -8.19   15.38     67.19      97.0        95.0       2.55   \n",
       "5     tuatapere -46.13  167.68     55.99      97.0       100.0       1.99   \n",
       "\n",
       "    Country          Date  \n",
       "148      AU  1.604076e+09  \n",
       "80       NZ  1.604076e+09  \n",
       "43       NZ  1.604076e+09  \n",
       "132      AO  1.604076e+09  \n",
       "5        NZ  1.604076e+09  "
      ]
     },
     "execution_count": 17,
     "metadata": {},
     "output_type": "execute_result"
    }
   ],
   "source": [
    "cities_pd_clean_S = cities_pd_clean.loc[cities_pd_clean[\"Lat\"]<0]\n",
    "cities_pd_clean_S.head()"
   ]
  },
  {
   "cell_type": "code",
   "execution_count": 20,
   "metadata": {},
   "outputs": [
    {
     "data": {
      "image/png": "[encoded data removed]",
      "text/plain": [
       "<Figure size 432x288 with 1 Axes>"
      ]
     },
     "metadata": {
      "needs_background": "light"
     },
     "output_type": "display_data"
    },
    {
     "name": "stdout",
     "output_type": "stream",
     "text": [
      "y = 0.97x + -89.54\n"
     ]
    }
   ],
   "source": [
    "cities_pd_clean_S.plot.scatter(x = \"Max Temp\" ,y = \"Lat\")\n",
    "\n",
    "x_values = cities_pd_clean_S['Max Temp']\n",
    "y_values = cities_pd_clean_S['Lat']\n",
    "(slope, intercept, rvalue, pvalue, stderr) = linregress(x_values, y_values)\n",
    "regress_values = x_values * slope + intercept\n",
    "line_eq = \"y = \" + str(round(slope,2)) + \"x + \" + str(round(intercept,2))\n",
    "plt.scatter(x_values,y_values)\n",
    "plt.plot(x_values,regress_values,\"r-\")\n",
    "plt.annotate(line_eq,(60,-10),fontsize=15,color=\"red\")\n",
    "plt.title(\"Souther Hemisphere - Max Temp vs. Latitude Linear Regression\")\n",
    "plt.xlabel('Max Temp')\n",
    "plt.ylabel('Latitude')\n",
    "plt.savefig(\"../Images/SLat_vs_Temp.png\")\n",
    "plt.show()\n",
    "\n",
    "print(line_eq)\n",
    "\n",
    "# the linear regression explains a high correllation between latitude and Air Temperature\n",
    "# the closer to the equator the higher the air temperature gets. "
   ]
  },
  {
   "cell_type": "markdown",
   "metadata": {},
   "source": [
    "####  Northern Hemisphere - Humidity (%) vs. Latitude Linear Regression"
   ]
  },
  {
   "cell_type": "code",
   "execution_count": 62,
   "metadata": {},
   "outputs": [
    {
     "data": {
      "image/png": "[encoded data removed]",
      "text/plain": [
       "<Figure size 432x288 with 1 Axes>"
      ]
     },
     "metadata": {
      "needs_background": "light"
     },
     "output_type": "display_data"
    }
   ],
   "source": [
    "cities_pd_clean_N.plot.scatter(x = \"Humidity\" ,y = \"Lat\")\n",
    "\n",
    "x_values = cities_pd_clean_N['Humidity']\n",
    "y_values = cities_pd_clean_N['Lat']\n",
    "(slope, intercept, rvalue, pvalue, stderr) = linregress(x_values, y_values)\n",
    "regress_values = x_values * slope + intercept\n",
    "line_eq = \"y = \" + str(round(slope,2)) + \"x + \" + str(round(intercept,2))\n",
    "plt.scatter(x_values,y_values)\n",
    "plt.plot(x_values,regress_values,\"r-\")\n",
    "plt.annotate(line_eq,(6,10),fontsize=15,color=\"red\")\n",
    "plt.title(\"Northern Hemisphere - Humidity (%) vs. Latitude Linear Regression\")\n",
    "plt.xlabel('Humidity (%)')\n",
    "plt.ylabel('Latitude')\n",
    "plt.savefig(\"../Images/NLat_vs_Humidity.png\")\n",
    "plt.show()\n",
    "\n",
    "# the linear regression does not show a strong relationship between humidity and latitude\n"
   ]
  },
  {
   "cell_type": "markdown",
   "metadata": {},
   "source": [
    "####  Southern Hemisphere - Humidity (%) vs. Latitude Linear Regression"
   ]
  },
  {
   "cell_type": "code",
   "execution_count": 21,
   "metadata": {},
   "outputs": [
    {
     "data": {
      "image/png": "[encoded data removed]",
      "text/plain": [
       "<Figure size 432x288 with 1 Axes>"
      ]
     },
     "metadata": {
      "needs_background": "light"
     },
     "output_type": "display_data"
    }
   ],
   "source": [
    "cities_pd_clean_S.plot.scatter(x = \"Humidity\" ,y = \"Lat\")\n",
    "\n",
    "x_values = cities_pd_clean_S['Humidity']\n",
    "y_values = cities_pd_clean_S['Lat']\n",
    "(slope, intercept, rvalue, pvalue, stderr) = linregress(x_values, y_values)\n",
    "regress_values = x_values * slope + intercept\n",
    "line_eq = \"y = \" + str(round(slope,2)) + \"x + \" + str(round(intercept,2))\n",
    "plt.scatter(x_values,y_values)\n",
    "plt.plot(x_values,regress_values,\"r-\")\n",
    "plt.annotate(line_eq,(60,-10),fontsize=15,color=\"red\")\n",
    "plt.title(\"Southern Hemisphere - Humidity (%) vs. Latitude Linear Regression\")\n",
    "plt.xlabel('Humidity (%)')\n",
    "plt.ylabel('Latitude')\n",
    "plt.savefig(\"../Images/SLat_vs_Humidity.png\")\n",
    "plt.show()\n",
    "\n",
    "# the linear regression does not show a strong relationship between humidity and latitude\n"
   ]
  },
  {
   "cell_type": "markdown",
   "metadata": {},
   "source": [
    "####  Northern Hemisphere - Cloudiness (%) vs. Latitude Linear Regression"
   ]
  },
  {
   "cell_type": "code",
   "execution_count": 60,
   "metadata": {},
   "outputs": [
    {
     "data": {
      "image/png": "[encoded data removed]",
      "text/plain": [
       "<Figure size 432x288 with 1 Axes>"
      ]
     },
     "metadata": {
      "needs_background": "light"
     },
     "output_type": "display_data"
    }
   ],
   "source": [
    "cities_pd_clean_N.plot.scatter(x = \"Cloudiness\" ,y = \"Lat\")\n",
    "\n",
    "x_values = cities_pd_clean_N['Cloudiness']\n",
    "y_values = cities_pd_clean_N['Lat']\n",
    "(slope, intercept, rvalue, pvalue, stderr) = linregress(x_values, y_values)\n",
    "regress_values = x_values * slope + intercept\n",
    "line_eq = \"y = \" + str(round(slope,2)) + \"x + \" + str(round(intercept,2))\n",
    "plt.scatter(x_values,y_values)\n",
    "plt.plot(x_values,regress_values,\"r-\")\n",
    "plt.annotate(line_eq,(6,10),fontsize=15,color=\"red\")\n",
    "plt.title(\"Northern Hemisphere - Cloudiness (%) vs. Latitude Linear Regression\")\n",
    "plt.xlabel('Cloudiness (%)')\n",
    "plt.ylabel('Latitude')\n",
    "plt.savefig(\"../Images/NLat_vs_Cloudiness.png\")\n",
    "plt.show()\n",
    "\n",
    "# the linear regression does not show a strong relationship between cloudiness and latitude\n"
   ]
  },
  {
   "cell_type": "markdown",
   "metadata": {},
   "source": [
    "####  Southern Hemisphere - Cloudiness (%) vs. Latitude Linear Regression"
   ]
  },
  {
   "cell_type": "code",
   "execution_count": 22,
   "metadata": {},
   "outputs": [
    {
     "data": {
      "image/png": "[encoded data removed]",
      "text/plain": [
       "<Figure size 432x288 with 1 Axes>"
      ]
     },
     "metadata": {
      "needs_background": "light"
     },
     "output_type": "display_data"
    }
   ],
   "source": [
    "cities_pd_clean_S.plot.scatter(x = \"Cloudiness\" ,y = \"Lat\")\n",
    "\n",
    "x_values = cities_pd_clean_S['Cloudiness']\n",
    "y_values = cities_pd_clean_S['Lat']\n",
    "(slope, intercept, rvalue, pvalue, stderr) = linregress(x_values, y_values)\n",
    "regress_values = x_values * slope + intercept\n",
    "line_eq = \"y = \" + str(round(slope,2)) + \"x + \" + str(round(intercept,2))\n",
    "plt.scatter(x_values,y_values)\n",
    "plt.plot(x_values,regress_values,\"r-\")\n",
    "plt.annotate(line_eq,(60,-10),fontsize=15,color=\"red\")\n",
    "plt.title(\"Souther Hemisphere - Cloudiness (%) vs. Latitude Linear Regression\")\n",
    "plt.xlabel('Cloudiness (%)')\n",
    "plt.ylabel('Latitude')\n",
    "plt.savefig(\"../Images/SLat_vs_Cloudiness.png\")\n",
    "plt.show()\n",
    "\n",
    "# the linear regression does not show a strong relationship between cloudiness and latitude\n"
   ]
  },
  {
   "cell_type": "markdown",
   "metadata": {},
   "source": [
    "####  Northern Hemisphere - Wind Speed (mph) vs. Latitude Linear Regression"
   ]
  },
  {
   "cell_type": "code",
   "execution_count": 58,
   "metadata": {},
   "outputs": [
    {
     "data": {
      "image/png": "[encoded data removed]",
      "text/plain": [
       "<Figure size 432x288 with 1 Axes>"
      ]
     },
     "metadata": {
      "needs_background": "light"
     },
     "output_type": "display_data"
    }
   ],
   "source": [
    "cities_pd_clean_N.plot.scatter(x = \"Windspeed\" ,y = \"Lat\")\n",
    "\n",
    "x_values = cities_pd_clean_N['Windspeed']\n",
    "y_values = cities_pd_clean_N['Lat']\n",
    "(slope, intercept, rvalue, pvalue, stderr) = linregress(x_values, y_values)\n",
    "regress_values = x_values * slope + intercept\n",
    "line_eq = \"y = \" + str(round(slope,2)) + \"x + \" + str(round(intercept,2))\n",
    "plt.scatter(x_values,y_values)\n",
    "plt.plot(x_values,regress_values,\"r-\")\n",
    "plt.annotate(line_eq,(6,10),fontsize=15,color=\"red\")\n",
    "plt.title(\"Northern Hemisphere - Wind Speed (mph) vs. Latitude Linear Regression\")\n",
    "plt.xlabel('Wind Speed (mph)')\n",
    "plt.ylabel('Latitude')\n",
    "plt.savefig(\"../Images/NLat_vs_Windspeed.png\")\n",
    "plt.show()\n",
    "\n",
    "# the linear regression does not show a strong relationship between windspeed and latitude\n"
   ]
  },
  {
   "cell_type": "markdown",
   "metadata": {},
   "source": [
    "####  Southern Hemisphere - Wind Speed (mph) vs. Latitude Linear Regression"
   ]
  },
  {
   "cell_type": "code",
   "execution_count": 30,
   "metadata": {},
   "outputs": [
    {
     "data": {
      "image/png": "[encoded data removed]",
      "text/plain": [
       "<Figure size 432x288 with 1 Axes>"
      ]
     },
     "metadata": {
      "needs_background": "light"
     },
     "output_type": "display_data"
    },
    {
     "name": "stdout",
     "output_type": "stream",
     "text": [
      "y = -0.49x + -15.68\n"
     ]
    }
   ],
   "source": [
    "cities_pd_clean_S.plot.scatter(x = \"Windspeed\" ,y = \"Lat\")\n",
    "\n",
    "x_values = cities_pd_clean_S['Windspeed']\n",
    "y_values = cities_pd_clean_S['Lat']\n",
    "(slope, intercept, rvalue, pvalue, stderr) = linregress(x_values, y_values)\n",
    "regress_values = x_values * slope + intercept\n",
    "line_eq = \"y = \" + str(round(slope,2)) + \"x + \" + str(round(intercept,2))\n",
    "plt.scatter(x_values,y_values)\n",
    "plt.plot(x_values,regress_values,\"r-\")\n",
    "plt.annotate(line_eq,(60,-10),fontsize=15,color=\"red\")\n",
    "plt.title(\"Southern Hemisphere - Wind Speed (mph) vs. Latitude Linear Regression\")\n",
    "plt.xlabel('Wind Speed (mph)')\n",
    "plt.ylabel('Latitude')\n",
    "plt.savefig(\"../Images/SLat_vs_Windspeed.png\")\n",
    "plt.show()\n",
    "print(line_eq)\n",
    "\n",
    "# the linear regression does not show a strong relationship between wind speed and latitude\n"
   ]
  },
  {
   "cell_type": "code",
   "execution_count": null,
   "metadata": {},
   "outputs": [],
   "source": []
  }
 ],
 "metadata": {
  "anaconda-cloud": {},
  "kernel_info": {
   "name": "python3"
  },
  "kernelspec": {
   "display_name": "Python 3",
   "language": "python",
   "name": "python3"
  },
  "language_info": {
   "codemirror_mode": {
    "name": "ipython",
    "version": 3
   },
   "file_extension": ".py",
   "mimetype": "text/x-python",
   "name": "python",
   "nbconvert_exporter": "python",
   "pygments_lexer": "ipython3",
   "version": "3.6.10"
  },
  "latex_envs": {
   "LaTeX_envs_menu_present": true,
   "autoclose": false,
   "autocomplete": true,
   "bibliofile": "biblio.bib",
   "cite_by": "apalike",
   "current_citInitial": 1,
   "eqLabelWithNumbers": true,
   "eqNumInitial": 1,
   "hotkeys": {
    "equation": "Ctrl-E",
    "itemize": "Ctrl-I"
   },
   "labels_anchors": false,
   "latex_user_defs": false,
   "report_style_numbering": false,
   "user_envs_cfg": false
  },
  "nteract": {
   "version": "0.12.3"
  }
 },
 "nbformat": 4,
 "nbformat_minor": 2
}
